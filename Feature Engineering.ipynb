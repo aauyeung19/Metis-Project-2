{
 "cells": [
  {
   "cell_type": "code",
   "execution_count": 1,
   "metadata": {},
   "outputs": [],
   "source": [
    "import pickle\n",
    "import pandas as pd\n",
    "import numpy as np\n",
    "import datetime as dt"
   ]
  },
  {
   "cell_type": "code",
   "execution_count": 2,
   "metadata": {},
   "outputs": [],
   "source": [
    "movie_df = pickle.load(open('clean_movie_df.pickle', 'rb'))"
   ]
  },
  {
   "cell_type": "code",
   "execution_count": 3,
   "metadata": {},
   "outputs": [],
   "source": [
    "#read holidays csv\n",
    "holidays = pd.read_csv('usholidays.csv')\n",
    "\n",
    "#convert all dates to datetime/timestamp\n",
    "movie_df.release = pd.to_datetime(movie_df.release)\n",
    "holidays.loc[:,'Date'] = pd.to_datetime(holidays.Date)\n",
    "\n",
    "#filter out holiday dates before the year 2000\n",
    "holidays = holidays[holidays.Date >= dt.datetime(2000,1,1)].Date\n",
    "\n",
    "def find_closest_holiday(date):\n",
    "    \"\"\"\n",
    "    Finds the days to the nearest US Federal Holiday\n",
    "    args:\n",
    "    date (timestamp)\n",
    "    returns:\n",
    "    nearest_hol (int) days to the nearest holiday\n",
    "    \"\"\"\n",
    "    nearest_hol = 365\n",
    "    for hol in holidays:\n",
    "        d = abs((hol - date).days)\n",
    "        if d < nearest_hol:\n",
    "            nearest_hol = d\n",
    "    return nearest_hol\n",
    "\n",
    "movie_df['holiday_distance'] = movie_df.release.map(find_closest_holiday)"
   ]
  },
  {
   "cell_type": "code",
   "execution_count": 4,
   "metadata": {},
   "outputs": [
    {
     "data": {
      "text/html": [
       "<div>\n",
       "<style scoped>\n",
       "    .dataframe tbody tr th:only-of-type {\n",
       "        vertical-align: middle;\n",
       "    }\n",
       "\n",
       "    .dataframe tbody tr th {\n",
       "        vertical-align: top;\n",
       "    }\n",
       "\n",
       "    .dataframe thead th {\n",
       "        text-align: right;\n",
       "    }\n",
       "</style>\n",
       "<table border=\"1\" class=\"dataframe\">\n",
       "  <thead>\n",
       "    <tr style=\"text-align: right;\">\n",
       "      <th></th>\n",
       "      <th>holiday_distance</th>\n",
       "    </tr>\n",
       "  </thead>\n",
       "  <tbody>\n",
       "    <tr>\n",
       "      <th>count</th>\n",
       "      <td>4195.000000</td>\n",
       "    </tr>\n",
       "    <tr>\n",
       "      <th>mean</th>\n",
       "      <td>12.548510</td>\n",
       "    </tr>\n",
       "    <tr>\n",
       "      <th>std</th>\n",
       "      <td>11.321007</td>\n",
       "    </tr>\n",
       "    <tr>\n",
       "      <th>min</th>\n",
       "      <td>0.000000</td>\n",
       "    </tr>\n",
       "    <tr>\n",
       "      <th>25%</th>\n",
       "      <td>4.000000</td>\n",
       "    </tr>\n",
       "    <tr>\n",
       "      <th>50%</th>\n",
       "      <td>10.000000</td>\n",
       "    </tr>\n",
       "    <tr>\n",
       "      <th>75%</th>\n",
       "      <td>17.000000</td>\n",
       "    </tr>\n",
       "    <tr>\n",
       "      <th>max</th>\n",
       "      <td>52.000000</td>\n",
       "    </tr>\n",
       "  </tbody>\n",
       "</table>\n",
       "</div>"
      ],
      "text/plain": [
       "       holiday_distance\n",
       "count       4195.000000\n",
       "mean          12.548510\n",
       "std           11.321007\n",
       "min            0.000000\n",
       "25%            4.000000\n",
       "50%           10.000000\n",
       "75%           17.000000\n",
       "max           52.000000"
      ]
     },
     "execution_count": 4,
     "metadata": {},
     "output_type": "execute_result"
    }
   ],
   "source": [
    "movie_df.describe()"
   ]
  },
  {
   "cell_type": "code",
   "execution_count": 14,
   "metadata": {},
   "outputs": [],
   "source": [
    "#Get dummies from Genres\n",
    "movie_df = movie_df.merge(movie_df.genres.str.get_dummies(sep=','), left_index=True, right_index=True, );"
   ]
  },
  {
   "cell_type": "code",
   "execution_count": 15,
   "metadata": {},
   "outputs": [],
   "source": [
    "#Get dummies from movie distributor\n",
    "movie_df = movie_df.merge(pd.get_dummies(movie_df.distr), left_index=True, right_index=True);"
   ]
  },
  {
   "cell_type": "code",
   "execution_count": 17,
   "metadata": {},
   "outputs": [],
   "source": [
    "movie_df.drop(columns=['link_stub','desc','genres'], inplace=True)"
   ]
  },
  {
   "cell_type": "code",
   "execution_count": 18,
   "metadata": {},
   "outputs": [],
   "source": [
    "with open('processed_movie_df.pickle', 'wb') as to_write:\n",
    "    pickle.dump(movie_df, to_write)"
   ]
  },
  {
   "cell_type": "code",
   "execution_count": null,
   "metadata": {},
   "outputs": [],
   "source": []
  }
 ],
 "metadata": {
  "kernelspec": {
   "display_name": "Python 3",
   "language": "python",
   "name": "python3"
  },
  "language_info": {
   "codemirror_mode": {
    "name": "ipython",
    "version": 3
   },
   "file_extension": ".py",
   "mimetype": "text/x-python",
   "name": "python",
   "nbconvert_exporter": "python",
   "pygments_lexer": "ipython3",
   "version": "3.8.3"
  }
 },
 "nbformat": 4,
 "nbformat_minor": 4
}
