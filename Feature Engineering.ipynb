{
 "cells": [
  {
   "cell_type": "code",
   "execution_count": 1,
   "metadata": {},
   "outputs": [],
   "source": [
    "import pickle\n",
    "import pandas as pd\n",
    "import numpy as np\n",
    "import datetime as dt\n",
    "import re\n",
    "import seaborn as sns\n",
    "import matplotlib.pyplot as plt"
   ]
  },
  {
   "cell_type": "code",
   "execution_count": 2,
   "metadata": {},
   "outputs": [],
   "source": [
    "movie_df = pickle.load(open('clean_movie_df.pickle', 'rb'))"
   ]
  },
  {
   "cell_type": "code",
   "execution_count": 3,
   "metadata": {},
   "outputs": [
    {
     "data": {
      "text/plain": [
       "False    113\n",
       "True      76\n",
       "Name: budget, dtype: int64"
      ]
     },
     "execution_count": 3,
     "metadata": {},
     "output_type": "execute_result"
    }
   ],
   "source": [
    "movie_df.release = pd.to_datetime(movie_df.release)\n",
    "movie_df[movie_df.release >= dt.datetime(2019,1,1)].budget.isna().value_counts()"
   ]
  },
  {
   "cell_type": "code",
   "execution_count": 4,
   "metadata": {},
   "outputs": [],
   "source": [
    "#read holidays csv\n",
    "holidays = pd.read_csv('usholidays.csv')\n",
    "\n",
    "#convert all dates to datetime/timestamp\n",
    "movie_df.release = pd.to_datetime(movie_df.release)\n",
    "holidays.loc[:,'Date'] = pd.to_datetime(holidays.Date)\n",
    "\n",
    "#filter out holiday dates before the year 2000\n",
    "holidays = holidays[holidays.Date >= dt.datetime(2000,1,1)].Date\n",
    "\n",
    "#########################IF I have Time: Try to replace this with numpy array combinations\n",
    "def find_closest_holiday(date):\n",
    "    \"\"\"\n",
    "    Finds the days to the nearest US Federal Holiday\n",
    "    args:\n",
    "    date (timestamp)\n",
    "    returns:\n",
    "    nearest_hol (int) days to the nearest holiday\n",
    "    \"\"\"\n",
    "    nearest_hol = 365\n",
    "    for hol in holidays:\n",
    "        d = abs((hol - date).days)\n",
    "        if d < nearest_hol:\n",
    "            nearest_hol = d\n",
    "    return nearest_hol\n",
    "\n",
    "movie_df['holiday_distance'] = movie_df.release.map(find_closest_holiday)\n",
    "#movie_df.drop(columns='release', inplace=True)"
   ]
  },
  {
   "cell_type": "code",
   "execution_count": 5,
   "metadata": {},
   "outputs": [],
   "source": [
    "movie_df['year'] = movie_df.release.map(lambda x: x.year-2000)"
   ]
  },
  {
   "cell_type": "code",
   "execution_count": 6,
   "metadata": {},
   "outputs": [],
   "source": [
    "movie_df.rename(columns={'index':'title'}, inplace=True)"
   ]
  },
  {
   "cell_type": "code",
   "execution_count": 7,
   "metadata": {},
   "outputs": [
    {
     "data": {
      "text/plain": [
       "3909    Frank Miller, Quentin Tarantino, Robert Rodriguez\n",
       "508      Alastair Fothergill, Keith Scholey, Adam Chapman\n",
       "1853    Robert Rodriguez, Eli Roth, Quentin Tarantino,...\n",
       "4019        Bob Persichetti, Peter Ramsey, Rodney Rothman\n",
       "2042               Cory Edwards, Todd Edwards, Tony Leech\n",
       "1439               Jeff Schaffer, Alec Berg, David Mandel\n",
       "1278         Dave Borthwick, Jean Duval, Frank Passingham\n",
       "1475    James Algar, Gaëtan Brizzi, Paul Brizzi, Hende...\n",
       "2990    Elizabeth Banks, Steven Brill, Steve Carr, Rus...\n",
       "1912    Paul Bolger, Yvette Kaplan, Greg Tiernan, Dino...\n",
       "743           Mark Andrews, Brenda Chapman, Steve Purcell\n",
       "1208              Kyle Balda, Pierre Coffin, Eric Guillon\n",
       "2721             Eric Darnell, Tom McGrath, Conrad Vernon\n",
       "5251          Bibo Bergeron, Don Paul, Jeffrey Katzenberg\n",
       "6018                 Byron Howard, Rich Moore, Jared Bush\n",
       "3874          Andrew Adamson, Kelly Asbury, Conrad Vernon\n",
       "4375    Anna Chi, Daniel Chuba, Mark A.Z. Dippé, Wonja...\n",
       "1918           George Miller, Warren Coleman, Judy Morris\n",
       "1922                 George Miller, Gary Eck, David Peers\n",
       "5562              John Lasseter, Ash Brannon, Lee Unkrich\n",
       "2960            Pete Docter, David Silverman, Lee Unkrich\n",
       "3421           Jorge Blanco, Javier Abad, Marcos Martínez\n",
       "2920    Ron Clements, John Musker, Don Hall, Chris Wil...\n",
       "3851           Bibo Bergeron, Vicky Jenson, Rob Letterman\n",
       "998           Tom Tykwer, Lana Wachowski, Lilly Wachowski\n",
       "1445    Colin Brady, Christopher Reeve, Daniel St. Pierre\n",
       "4911                 Charlie Bean, Paul Fisher, Bob Logan\n",
       "3235           Roger Allers, Jill Culton, Anthony Stacchi\n",
       "2115    Gabriel Riva Palacio Alatriste, Rodolfo Riva P...\n",
       "5460         Vincent Kesteloot, Ben Stassen, Mimi Maynard\n",
       "Name: Director, dtype: object"
      ]
     },
     "execution_count": 7,
     "metadata": {},
     "output_type": "execute_result"
    }
   ],
   "source": [
    "#looking for movies with more than 1 director\n",
    "#shows a small subset\n",
    "movie_df.Director[movie_df.Director.str.split(pat=',').map(len)>2]"
   ]
  },
  {
   "cell_type": "code",
   "execution_count": 8,
   "metadata": {},
   "outputs": [],
   "source": [
    "columns_to_count = ['Director', \n",
    "                    'distr', \n",
    "                    'Composer', \n",
    "                    'Cinematographer', \n",
    "                    'Editor', \n",
    "                    'Production Designer', \n",
    "                    'Writer', \n",
    "                    'Producer', \n",
    "                    'Actors']\n",
    "#Gets number of times the crewmember or distributor works on something in the dataframe.  \n",
    "#Larger n may associate with more experience\n",
    "for crew in columns_to_count:\n",
    "    \n",
    "    \"\"\"########### portfolios really have little to no correlation with gross_dom target\n",
    "    ########### But the portfolio value is useful for determining how to fill nulls\n",
    "    curr_portfolio = movie_df[crew].value_counts().reset_index()\n",
    "    curr_portfolio = pd.DataFrame(curr_portfolio).rename(columns={'index':crew, crew:crew+'_portfolio'})\n",
    "    movie_df = movie_df.merge(curr_portfolio, left_on=crew, right_on=crew)\"\"\"\n",
    "    \n",
    "    # Some movies have multiple people in the same row.  Split them to get their individual average amounts \n",
    "    curr = movie_df[['title', crew]]\n",
    "    \n",
    "    # make list to append unique title/name combination\n",
    "    curr_crew = []\n",
    "    for row in range(len(curr)):\n",
    "        movietitle = curr.iloc[row][0]\n",
    "        try:\n",
    "            for name in curr.iloc[row][1].split(','):\n",
    "                name = name.strip()\n",
    "                curr_crew.append((movietitle, name))\n",
    "        except:\n",
    "            pass\n",
    "    curr_crew = pd.DataFrame(curr_crew, columns=['title', crew])\n",
    "    curr_crew.drop_duplicates(inplace=True)\n",
    "    \n",
    "    curr_crew=curr_crew.merge(movie_df[['title', 'gross_dom', 'budget', 'release']], on='title')\n",
    "    \n",
    "    # remove null or nan quantities\n",
    "    curr_crew.set_index(crew, inplace=True)\n",
    "    try:\n",
    "        curr_crew = curr_crew.drop('nan').reset_index()\n",
    "    except:\n",
    "        curr_crew = curr_crew.reset_index()\n",
    "    \n",
    "    # get count of total times the crew shows up\n",
    "    crew_counts = curr_crew[crew].value_counts()\n",
    "\n",
    "    # sort alphabetically to group the crew members\n",
    "    # then sort by release date to put them in order\n",
    "    curr_crew = curr_crew.sort_values(by=[crew, 'release'])\n",
    "    unique_members = curr_crew[crew].unique()\n",
    "    \n",
    "    prev = []\n",
    "    prev_gross_dom = []\n",
    "    prev_budget = []\n",
    "    for name in unique_members:\n",
    "        # generate list with number of times the crew member has shown up prior to the current row (Since 2000)\n",
    "        prev.extend([x for x in range(crew_counts.loc[name])])\n",
    "        # create slices based on position and get sum of previous iterations to get cumulative sum prior to current movie\n",
    "        for c in range(crew_counts.loc[name]):\n",
    "            pg = curr_crew[curr_crew[crew]==name][:c]['gross_dom'].sum()\n",
    "            pb = curr_crew[curr_crew[crew]==name][:c]['budget'].sum()\n",
    "            prev_gross_dom.append(pg)\n",
    "            prev_budget.append(pb)\n",
    "    \n",
    "    # add each of the above lists as columns on the curr_crew df\n",
    "    curr_crew['n_previous'] = prev\n",
    "    curr_crew['previous_cumulative_domestic'] = prev_gross_dom\n",
    "    curr_crew['previous_cumulative_budget'] = prev_budget\n",
    "    \n",
    "    curr_crew.reset_index(drop=True, inplace=True)\n",
    "    \n",
    "\n",
    "    # get the crew's prior average\n",
    "    curr_crew['average_prior_{}_dom'.format(crew)] = curr_crew['previous_cumulative_domestic']/curr_crew['n_previous']\n",
    "    curr_crew['average_prior_{}_budget'.format(crew)] = curr_crew['previous_cumulative_budget']/curr_crew['n_previous']\n",
    "    \n",
    "    # divide by zero error (no prior history)\n",
    "    curr_crew['average_prior_{}_dom'.format(crew)].fillna(value=0, inplace=True)\n",
    "    curr_crew['average_prior_{}_budget'.format(crew)].fillna(value=0, inplace=True)\n",
    "    \n",
    "    # Averages the writer's prior averages who share the same movie title\n",
    "    curr_crew = curr_crew.groupby('title', as_index=False).aggregate({'average_prior_{}_dom'.format(crew): 'mean', 'average_prior_{}_budget'.format(crew): 'mean'})\n",
    "    # merge movie_df and curr_crew\n",
    "    # how='left' to presrve values from the left df (movie_df) and fills in nans \n",
    "    movie_df = movie_df.merge(curr_crew, on='title', how='left')\n",
    "\n",
    "    "
   ]
  },
  {
   "cell_type": "code",
   "execution_count": 9,
   "metadata": {
    "scrolled": false
   },
   "outputs": [
    {
     "data": {
      "text/plain": [
       "title                                         0\n",
       "link_stub                                     0\n",
       "release                                       0\n",
       "theaters                                      0\n",
       "desc                                          0\n",
       "distr                                        60\n",
       "opening                                     571\n",
       "budget                                      962\n",
       "mpaa                                        147\n",
       "runtime                                      23\n",
       "genres                                        0\n",
       "gross_dom                                     0\n",
       "gross_inter                                   0\n",
       "gross_world                                 163\n",
       "Director                                      0\n",
       "Writer                                        0\n",
       "Producer                                      0\n",
       "Composer                                      0\n",
       "Cinematographer                               0\n",
       "Editor                                        0\n",
       "Production Designer                           0\n",
       "Actors                                        0\n",
       "holiday_distance                              0\n",
       "year                                          0\n",
       "average_prior_Director_dom                    4\n",
       "average_prior_Director_budget                 4\n",
       "average_prior_distr_dom                      60\n",
       "average_prior_distr_budget                   60\n",
       "average_prior_Composer_dom                  128\n",
       "average_prior_Composer_budget               128\n",
       "average_prior_Cinematographer_dom           166\n",
       "average_prior_Cinematographer_budget        166\n",
       "average_prior_Editor_dom                     40\n",
       "average_prior_Editor_budget                  40\n",
       "average_prior_Production Designer_dom       191\n",
       "average_prior_Production Designer_budget    191\n",
       "average_prior_Writer_dom                     34\n",
       "average_prior_Writer_budget                  34\n",
       "average_prior_Producer_dom                   28\n",
       "average_prior_Producer_budget                28\n",
       "average_prior_Actors_dom                      0\n",
       "average_prior_Actors_budget                   0\n",
       "dtype: int64"
      ]
     },
     "execution_count": 9,
     "metadata": {},
     "output_type": "execute_result"
    }
   ],
   "source": [
    "movie_df.isnull().sum()"
   ]
  },
  {
   "cell_type": "code",
   "execution_count": 10,
   "metadata": {},
   "outputs": [
    {
     "data": {
      "text/plain": [
       "1609"
      ]
     },
     "execution_count": 10,
     "metadata": {},
     "output_type": "execute_result"
    }
   ],
   "source": [
    "len(movie_df.Director.unique())"
   ]
  },
  {
   "cell_type": "code",
   "execution_count": 11,
   "metadata": {},
   "outputs": [
    {
     "data": {
      "text/plain": [
       "gross_dom                                   1.000000\n",
       "gross_world                                 0.943116\n",
       "opening                                     0.942937\n",
       "gross_inter                                 0.865820\n",
       "budget                                      0.654337\n",
       "average_prior_Producer_dom                  0.533900\n",
       "average_prior_Producer_budget               0.479496\n",
       "average_prior_Writer_dom                    0.473330\n",
       "average_prior_Writer_budget                 0.421606\n",
       "average_prior_Editor_dom                    0.413389\n",
       "average_prior_distr_dom                     0.409444\n",
       "average_prior_Director_dom                  0.402956\n",
       "average_prior_Composer_dom                  0.402932\n",
       "average_prior_Production Designer_budget    0.399918\n",
       "average_prior_distr_budget                  0.386244\n",
       "average_prior_Composer_budget               0.381488\n",
       "average_prior_Production Designer_dom       0.371196\n",
       "average_prior_Director_budget               0.363902\n",
       "average_prior_Editor_budget                 0.358334\n",
       "average_prior_Actors_dom                    0.355194\n",
       "average_prior_Cinematographer_dom           0.318598\n",
       "average_prior_Cinematographer_budget        0.303896\n",
       "runtime                                     0.291188\n",
       "average_prior_Actors_budget                 0.274819\n",
       "year                                        0.034574\n",
       "holiday_distance                           -0.053035\n",
       "dtype: float64"
      ]
     },
     "execution_count": 11,
     "metadata": {},
     "output_type": "execute_result"
    }
   ],
   "source": [
    "movie_df.corrwith(movie_df.gross_dom).sort_values(ascending=False)"
   ]
  },
  {
   "cell_type": "code",
   "execution_count": 12,
   "metadata": {},
   "outputs": [
    {
     "data": {
      "text/plain": [
       "39"
      ]
     },
     "execution_count": 12,
     "metadata": {},
     "output_type": "execute_result"
    }
   ],
   "source": [
    "movie_df.holiday_distance[0]"
   ]
  },
  {
   "cell_type": "markdown",
   "metadata": {},
   "source": [
    "# Deal with nan"
   ]
  },
  {
   "cell_type": "code",
   "execution_count": 13,
   "metadata": {},
   "outputs": [
    {
     "data": {
      "text/plain": [
       "<matplotlib.axes._subplots.AxesSubplot at 0x7fd1a66e7490>"
      ]
     },
     "execution_count": 13,
     "metadata": {},
     "output_type": "execute_result"
    },
    {
     "data": {
      "image/png": "[encoded data removed]",
      "text/plain": [
       "<Figure size 432x288 with 1 Axes>"
      ]
     },
     "metadata": {
      "needs_background": "light"
     },
     "output_type": "display_data"
    }
   ],
   "source": [
    "# fill runtime nans with average/mean\n",
    "sns.distplot(movie_df.runtime)"
   ]
  },
  {
   "cell_type": "code",
   "execution_count": 14,
   "metadata": {},
   "outputs": [],
   "source": [
    "# fill na with median\n",
    "movie_df.runtime.fillna(value=movie_df.runtime.median(), inplace=True)"
   ]
  },
  {
   "cell_type": "code",
   "execution_count": 16,
   "metadata": {},
   "outputs": [
    {
     "data": {
      "text/plain": [
       "Index(['title', 'link_stub', 'release', 'theaters', 'desc', 'distr', 'opening',\n",
       "       'budget', 'mpaa', 'runtime', 'genres', 'gross_dom', 'gross_inter',\n",
       "       'gross_world', 'Director', 'Writer', 'Producer', 'Composer',\n",
       "       'Cinematographer', 'Editor', 'Production Designer', 'Actors',\n",
       "       'holiday_distance', 'year', 'average_prior_Director_dom',\n",
       "       'average_prior_Director_budget', 'average_prior_distr_dom',\n",
       "       'average_prior_distr_budget', 'average_prior_Composer_dom',\n",
       "       'average_prior_Composer_budget', 'average_prior_Cinematographer_dom',\n",
       "       'average_prior_Cinematographer_budget', 'average_prior_Editor_dom',\n",
       "       'average_prior_Editor_budget', 'average_prior_Production Designer_dom',\n",
       "       'average_prior_Production Designer_budget', 'average_prior_Writer_dom',\n",
       "       'average_prior_Writer_budget', 'average_prior_Producer_dom',\n",
       "       'average_prior_Producer_budget', 'average_prior_Actors_dom',\n",
       "       'average_prior_Actors_budget'],\n",
       "      dtype='object')"
      ]
     },
     "execution_count": 16,
     "metadata": {},
     "output_type": "execute_result"
    }
   ],
   "source": [
    "movie_df.columns"
   ]
  },
  {
   "cell_type": "code",
   "execution_count": 50,
   "metadata": {},
   "outputs": [
    {
     "data": {
      "text/plain": [
       "title                                         0\n",
       "link_stub                                     0\n",
       "release                                       0\n",
       "theaters                                      0\n",
       "desc                                          0\n",
       "distr                                        60\n",
       "opening                                     571\n",
       "budget                                        0\n",
       "mpaa                                        147\n",
       "runtime                                       0\n",
       "genres                                        0\n",
       "gross_dom                                     0\n",
       "gross_inter                                   0\n",
       "gross_world                                 163\n",
       "Director                                      0\n",
       "Writer                                        0\n",
       "Producer                                      0\n",
       "Composer                                      0\n",
       "Cinematographer                               0\n",
       "Editor                                        0\n",
       "Production Designer                           0\n",
       "Actors                                        0\n",
       "holiday_distance                              0\n",
       "year                                          0\n",
       "average_prior_Director_dom                    4\n",
       "average_prior_Director_budget                 0\n",
       "average_prior_distr_dom                      60\n",
       "average_prior_distr_budget                    0\n",
       "average_prior_Composer_dom                    0\n",
       "average_prior_Composer_budget                 0\n",
       "average_prior_Cinematographer_dom           166\n",
       "average_prior_Cinematographer_budget          0\n",
       "average_prior_Editor_dom                     40\n",
       "average_prior_Editor_budget                   0\n",
       "average_prior_Production Designer_dom       191\n",
       "average_prior_Production Designer_budget      0\n",
       "average_prior_Writer_dom                     34\n",
       "average_prior_Writer_budget                   0\n",
       "average_prior_Producer_dom                   28\n",
       "average_prior_Producer_budget                 0\n",
       "average_prior_Actors_dom                      0\n",
       "average_prior_Actors_budget                   0\n",
       "average_row_budget                            0\n",
       "dtype: int64"
      ]
     },
     "execution_count": 50,
     "metadata": {},
     "output_type": "execute_result"
    }
   ],
   "source": [
    "movie_df.isnull().sum()"
   ]
  },
  {
   "cell_type": "code",
   "execution_count": 36,
   "metadata": {},
   "outputs": [
    {
     "data": {
      "text/plain": [
       "0.0"
      ]
     },
     "execution_count": 36,
     "metadata": {},
     "output_type": "execute_result"
    }
   ],
   "source": [
    "np.log(1)"
   ]
  },
  {
   "cell_type": "code",
   "execution_count": 49,
   "metadata": {},
   "outputs": [],
   "source": [
    "# if the row has a null value for the budget\n",
    "# the average budget of the crew/distr should reflect the overall budget as well\n",
    "\n",
    "\n",
    "\n",
    "budget_list = ['average_prior_Director_budget',\n",
    "       'average_prior_distr_budget',\n",
    "       'average_prior_Composer_budget',\n",
    "       'average_prior_Cinematographer_budget',\n",
    "       'average_prior_Editor_budget',\n",
    "       'average_prior_Production Designer_budget',\n",
    "       'average_prior_Writer_budget',\n",
    "       'average_prior_Producer_budget',\n",
    "       'average_prior_Actors_budget']\n",
    "for each in budget_list:\n",
    "    movie_df[each] = movie_df[each].map(lambda x: 0 if str(x)=='nan' else x)\n",
    "    \n",
    "movie_df['average_row_budget'] = np.mean(movie_df[['budget', 'average_prior_Director_budget',\n",
    "       'average_prior_distr_budget',\n",
    "       'average_prior_Composer_budget',\n",
    "       'average_prior_Cinematographer_budget',\n",
    "       'average_prior_Editor_budget',\n",
    "       'average_prior_Production Designer_budget',\n",
    "       'average_prior_Writer_budget',\n",
    "       'average_prior_Producer_budget',\n",
    "       'average_prior_Actors_budget']], axis=1)\n",
    "movie_df.budget.fillna(value=movie_df.average_row_budget, axis=0, inplace=True)\n"
   ]
  },
  {
   "cell_type": "code",
   "execution_count": 51,
   "metadata": {},
   "outputs": [],
   "source": [
    "movie_df['day_of_year'] = movie_df.release.map(lambda x : x.dayofyear)"
   ]
  },
  {
   "cell_type": "code",
   "execution_count": 52,
   "metadata": {},
   "outputs": [
    {
     "data": {
      "image/png": "[encoded data removed]",
      "text/plain": [
       "<Figure size 432x288 with 1 Axes>"
      ]
     },
     "metadata": {
      "needs_background": "light"
     },
     "output_type": "display_data"
    }
   ],
   "source": [
    "# theaters and gross_dom have a logistic relationship\n",
    "sns.scatterplot(x='theaters', y='gross_dom', data=movie_df);"
   ]
  },
  {
   "cell_type": "code",
   "execution_count": 53,
   "metadata": {},
   "outputs": [
    {
     "data": {
      "text/plain": [
       "<matplotlib.axes._subplots.AxesSubplot at 0x7fd1a7c29dc0>"
      ]
     },
     "execution_count": 53,
     "metadata": {},
     "output_type": "execute_result"
    },
    {
     "data": {
      "image/png": "[encoded data removed]",
      "text/plain": [
       "<Figure size 432x288 with 1 Axes>"
      ]
     },
     "metadata": {
      "needs_background": "light"
     },
     "output_type": "display_data"
    }
   ],
   "source": [
    "# log(y) = x looks linear\n",
    "sns.scatterplot(x=movie_df.theaters, y=movie_df.gross_dom.map(np.log))"
   ]
  },
  {
   "cell_type": "code",
   "execution_count": 54,
   "metadata": {},
   "outputs": [],
   "source": [
    "# standardize theaters value and raise to the exponent\n",
    "from sklearn.preprocessing import StandardScaler\n",
    "scaler = StandardScaler()\n",
    "movie_df.theaters = scaler.fit_transform(movie_df[['theaters']])\n",
    "movie_df['theaters_exp'] = movie_df.theaters.map(np.exp)"
   ]
  },
  {
   "cell_type": "code",
   "execution_count": 55,
   "metadata": {},
   "outputs": [
    {
     "data": {
      "text/plain": [
       "<matplotlib.axes._subplots.AxesSubplot at 0x7fd1ad2e31c0>"
      ]
     },
     "execution_count": 55,
     "metadata": {},
     "output_type": "execute_result"
    },
    {
     "data": {
      "image/png": "[encoded data removed]",
      "text/plain": [
       "<Figure size 432x288 with 1 Axes>"
      ]
     },
     "metadata": {
      "needs_background": "light"
     },
     "output_type": "display_data"
    }
   ],
   "source": [
    "sns.scatterplot(x='theaters_exp', y='gross_dom', data=movie_df)"
   ]
  },
  {
   "cell_type": "code",
   "execution_count": 56,
   "metadata": {},
   "outputs": [
    {
     "data": {
      "text/plain": [
       "<seaborn.axisgrid.FacetGrid at 0x7fd1ad2fe460>"
      ]
     },
     "execution_count": 56,
     "metadata": {},
     "output_type": "execute_result"
    },
    {
     "data": {
      "image/png": "[encoded data removed]",
      "text/plain": [
       "<Figure size 445.625x360 with 1 Axes>"
      ]
     },
     "metadata": {
      "needs_background": "light"
     },
     "output_type": "display_data"
    }
   ],
   "source": [
    "sns.lmplot(x='budget', y='gross_dom', data=movie_df, hue='mpaa')"
   ]
  },
  {
   "cell_type": "code",
   "execution_count": 57,
   "metadata": {},
   "outputs": [
    {
     "name": "stderr",
     "output_type": "stream",
     "text": [
      "/Users/andrew/opt/anaconda3/lib/python3.8/site-packages/pandas/core/indexing.py:671: SettingWithCopyWarning: \n",
      "A value is trying to be set on a copy of a slice from a DataFrame\n",
      "\n",
      "See the caveats in the documentation: https://pandas.pydata.org/pandas-docs/stable/user_guide/indexing.html#returning-a-view-versus-a-copy\n",
      "  self._setitem_with_indexer(indexer, value)\n"
     ]
    }
   ],
   "source": [
    "#get median values for distr in nan opening\n",
    "med_nan_dict = {i : movie_df[movie_df.distr==i].opening.median() for i in movie_df.distr.unique()}\n",
    " \n",
    "\n",
    "for idx, o in enumerate(movie_df.opening): \n",
    "    if np.isnan(o):\n",
    "        key = movie_df.distr.iloc[idx]\n",
    "        movie_df.opening.iloc[idx] = med_nan_dict[key]"
   ]
  },
  {
   "cell_type": "code",
   "execution_count": 58,
   "metadata": {},
   "outputs": [],
   "source": [
    "# group day of year, budget, runtime into categories\n",
    "# day of year\n",
    "# Winter - Dec 21 to March 20 -- 355, 79\n",
    "# Spring - March 20 to June 20 -- 79, 171\n",
    "# Summer - June 20 to September 22 171, 265\n",
    "# Fall - September 22 to Dec 21 265, 355\n",
    "# Budget \n",
    "# Low < 29092651\n",
    "# 29092651 < Medium < 52000000\n",
    "# 52000000 < High\n",
    "# Runtime\n",
    "# Short < 60\n",
    "# Normal < 60-120\n",
    "# Long > 120"
   ]
  },
  {
   "cell_type": "code",
   "execution_count": 59,
   "metadata": {},
   "outputs": [],
   "source": [
    "def seasons(day):\n",
    "    if day < 79 or day > 355:\n",
    "        return 'winter'\n",
    "    elif day < 171:\n",
    "        return 'spring'\n",
    "    elif day < 265:\n",
    "        return 'summer'\n",
    "    else:\n",
    "        return 'fall'\n",
    "    \n",
    "def budget_quality(bud):\n",
    "    if bud < 29092651: #33 quantile\n",
    "        return 'low'\n",
    "    elif bud > 52000000: #66 quantile\n",
    "        return 'high'\n",
    "    else:\n",
    "        return 'medium'\n",
    "\n",
    "def runtime_quality(r):\n",
    "    if r < 90:\n",
    "        return 'short'\n",
    "    elif r > 120:\n",
    "        return 'long'\n",
    "    else:\n",
    "        return 'normal'\n",
    "    \n",
    "movie_df['seasons'] = movie_df.day_of_year.map(seasons)\n",
    "movie_df['budget_cat'] = movie_df.budget.map(budget_quality)\n",
    "movie_df['runtime_cat'] = movie_df.runtime.map(runtime_quality)"
   ]
  },
  {
   "cell_type": "code",
   "execution_count": 60,
   "metadata": {},
   "outputs": [
    {
     "data": {
      "text/plain": [
       "<matplotlib.axes._subplots.AxesSubplot at 0x7fd1ad6b8880>"
      ]
     },
     "execution_count": 60,
     "metadata": {},
     "output_type": "execute_result"
    },
    {
     "data": {
      "image/png": "[encoded data removed]",
      "text/plain": [
       "<Figure size 432x288 with 1 Axes>"
      ]
     },
     "metadata": {
      "needs_background": "light"
     },
     "output_type": "display_data"
    }
   ],
   "source": [
    "sns.scatterplot(x='release', y='runtime', data=movie_df, hue='runtime_cat', alpha=0.9)"
   ]
  },
  {
   "cell_type": "code",
   "execution_count": 26,
   "metadata": {},
   "outputs": [],
   "source": [
    "# Generate Target of ROI\n",
    "# movie_df['roi'] = (movie_df.gross_dom-movie_df.budget)/movie_df.budget"
   ]
  },
  {
   "cell_type": "markdown",
   "metadata": {},
   "source": [
    "# Movie Genre and MPAA Dummies"
   ]
  },
  {
   "cell_type": "code",
   "execution_count": 61,
   "metadata": {},
   "outputs": [],
   "source": [
    "def dumdumdum(movie_df):\n",
    "    #get dummies for genres\n",
    "    movie_df.set_index('title', inplace=True)\n",
    "    movie_df = movie_df.merge(movie_df.genres.str.get_dummies(sep=', '), left_index=True, right_index=True, );\n",
    "    \n",
    "    #get dummies for mpaa rating\n",
    "    movie_df = pd.get_dummies(movie_df, columns=['mpaa', 'seasons', 'budget_cat', 'runtime_cat'], drop_first=False)\n",
    "    return movie_df\n",
    "\n",
    "movie_df = movie_df.dropna(axis=0)\n",
    "movie_df = dumdumdum(movie_df)"
   ]
  },
  {
   "cell_type": "code",
   "execution_count": 62,
   "metadata": {},
   "outputs": [],
   "source": [
    "prepped = movie_df\n",
    "with open('processed_movie_df.pickle', 'wb') as to_write:\n",
    "    pickle.dump(prepped, to_write)"
   ]
  },
  {
   "cell_type": "code",
   "execution_count": 30,
   "metadata": {},
   "outputs": [
    {
     "data": {
      "text/plain": [
       "Index(['link_stub', 'release', 'theaters', 'desc', 'distr', 'opening',\n",
       "       'budget', 'runtime', 'genres', 'gross_dom', 'gross_inter',\n",
       "       'gross_world', 'Director', 'Writer', 'Producer', 'Composer',\n",
       "       'Cinematographer', 'Editor', 'Production Designer', 'Actors',\n",
       "       'holiday_distance', 'year', 'average_prior_Director_dom',\n",
       "       'average_prior_Director_budget', 'average_prior_distr_dom',\n",
       "       'average_prior_distr_budget', 'average_prior_Composer_dom',\n",
       "       'average_prior_Composer_budget', 'average_prior_Cinematographer_dom',\n",
       "       'average_prior_Cinematographer_budget', 'average_prior_Editor_dom',\n",
       "       'average_prior_Editor_budget', 'average_prior_Production Designer_dom',\n",
       "       'average_prior_Production Designer_budget', 'average_prior_Writer_dom',\n",
       "       'average_prior_Writer_budget', 'average_prior_Producer_dom',\n",
       "       'average_prior_Producer_budget', 'average_prior_Actors_dom',\n",
       "       'average_prior_Actors_budget', 'average_row_budget', 'day_of_year',\n",
       "       'theaters_exp', 'roi', 'Action', 'Adventure', 'Animation', 'Biography',\n",
       "       'Comedy', 'Crime', 'Drama', 'Family', 'Fantasy', 'History', 'Horror',\n",
       "       'Music', 'Musical', 'Mystery', 'Romance', 'Sci-Fi', 'Sport', 'Thriller',\n",
       "       'War', 'Western', 'mpaa_G', 'mpaa_PG', 'mpaa_PG-13', 'mpaa_R',\n",
       "       'seasons_fall', 'seasons_spring', 'seasons_summer', 'seasons_winter',\n",
       "       'budget_cat_high', 'budget_cat_low', 'budget_cat_medium',\n",
       "       'runtime_cat_long', 'runtime_cat_normal', 'runtime_cat_short'],\n",
       "      dtype='object')"
      ]
     },
     "execution_count": 30,
     "metadata": {},
     "output_type": "execute_result"
    }
   ],
   "source": [
    "movie_df.columns"
   ]
  },
  {
   "cell_type": "code",
   "execution_count": 34,
   "metadata": {},
   "outputs": [
    {
     "data": {
      "text/plain": [
       "True"
      ]
     },
     "execution_count": 34,
     "metadata": {},
     "output_type": "execute_result"
    }
   ],
   "source": [
    "movie_df.runtime.describe().min() < 60"
   ]
  },
  {
   "cell_type": "code",
   "execution_count": 35,
   "metadata": {},
   "outputs": [
    {
     "data": {
      "text/plain": [
       "count    2890.000000\n",
       "mean        3.288855\n",
       "std       133.915431\n",
       "min        -0.996656\n",
       "25%        -0.508387\n",
       "50%         0.000677\n",
       "75%         0.844988\n",
       "max      7193.587333\n",
       "Name: roi, dtype: float64"
      ]
     },
     "execution_count": 35,
     "metadata": {},
     "output_type": "execute_result"
    }
   ],
   "source": [
    "movie_df.roi.describe()"
   ]
  },
  {
   "cell_type": "code",
   "execution_count": 36,
   "metadata": {},
   "outputs": [
    {
     "data": {
      "text/html": [
       "<div>\n",
       "<style scoped>\n",
       "    .dataframe tbody tr th:only-of-type {\n",
       "        vertical-align: middle;\n",
       "    }\n",
       "\n",
       "    .dataframe tbody tr th {\n",
       "        vertical-align: top;\n",
       "    }\n",
       "\n",
       "    .dataframe thead th {\n",
       "        text-align: right;\n",
       "    }\n",
       "</style>\n",
       "<table border=\"1\" class=\"dataframe\">\n",
       "  <thead>\n",
       "    <tr style=\"text-align: right;\">\n",
       "      <th></th>\n",
       "      <th>link_stub</th>\n",
       "      <th>release</th>\n",
       "      <th>theaters</th>\n",
       "      <th>desc</th>\n",
       "      <th>distr</th>\n",
       "      <th>opening</th>\n",
       "      <th>budget</th>\n",
       "      <th>runtime</th>\n",
       "      <th>genres</th>\n",
       "      <th>gross_dom</th>\n",
       "      <th>...</th>\n",
       "      <th>seasons_fall</th>\n",
       "      <th>seasons_spring</th>\n",
       "      <th>seasons_summer</th>\n",
       "      <th>seasons_winter</th>\n",
       "      <th>budget_cat_high</th>\n",
       "      <th>budget_cat_low</th>\n",
       "      <th>budget_cat_medium</th>\n",
       "      <th>runtime_cat_long</th>\n",
       "      <th>runtime_cat_normal</th>\n",
       "      <th>runtime_cat_short</th>\n",
       "    </tr>\n",
       "    <tr>\n",
       "      <th>title</th>\n",
       "      <th></th>\n",
       "      <th></th>\n",
       "      <th></th>\n",
       "      <th></th>\n",
       "      <th></th>\n",
       "      <th></th>\n",
       "      <th></th>\n",
       "      <th></th>\n",
       "      <th></th>\n",
       "      <th></th>\n",
       "      <th></th>\n",
       "      <th></th>\n",
       "      <th></th>\n",
       "      <th></th>\n",
       "      <th></th>\n",
       "      <th></th>\n",
       "      <th></th>\n",
       "      <th></th>\n",
       "      <th></th>\n",
       "      <th></th>\n",
       "      <th></th>\n",
       "    </tr>\n",
       "  </thead>\n",
       "  <tbody>\n",
       "    <tr>\n",
       "      <th>Paranormal Activity</th>\n",
       "      <td>/release/rl2355725825/?ref_=bo_yld_table_30</td>\n",
       "      <td>2009-09-25</td>\n",
       "      <td>0.243259</td>\n",
       "      <td>After moving into a suburban home, a couple be...</td>\n",
       "      <td>Paramount Pictures</td>\n",
       "      <td>15451981.0</td>\n",
       "      <td>15000.0</td>\n",
       "      <td>86.0</td>\n",
       "      <td>Horror, Mystery</td>\n",
       "      <td>107918810</td>\n",
       "      <td>...</td>\n",
       "      <td>1</td>\n",
       "      <td>0</td>\n",
       "      <td>0</td>\n",
       "      <td>0</td>\n",
       "      <td>0</td>\n",
       "      <td>1</td>\n",
       "      <td>0</td>\n",
       "      <td>0</td>\n",
       "      <td>0</td>\n",
       "      <td>1</td>\n",
       "    </tr>\n",
       "  </tbody>\n",
       "</table>\n",
       "<p>1 rows × 81 columns</p>\n",
       "</div>"
      ],
      "text/plain": [
       "                                                       link_stub    release  \\\n",
       "title                                                                         \n",
       "Paranormal Activity  /release/rl2355725825/?ref_=bo_yld_table_30 2009-09-25   \n",
       "\n",
       "                     theaters  \\\n",
       "title                           \n",
       "Paranormal Activity  0.243259   \n",
       "\n",
       "                                                                  desc  \\\n",
       "title                                                                    \n",
       "Paranormal Activity  After moving into a suburban home, a couple be...   \n",
       "\n",
       "                                  distr     opening   budget  runtime  \\\n",
       "title                                                                   \n",
       "Paranormal Activity  Paramount Pictures  15451981.0  15000.0     86.0   \n",
       "\n",
       "                              genres  gross_dom  ...  seasons_fall  \\\n",
       "title                                            ...                 \n",
       "Paranormal Activity  Horror, Mystery  107918810  ...             1   \n",
       "\n",
       "                     seasons_spring seasons_summer seasons_winter  \\\n",
       "title                                                               \n",
       "Paranormal Activity               0              0              0   \n",
       "\n",
       "                    budget_cat_high budget_cat_low budget_cat_medium  \\\n",
       "title                                                                  \n",
       "Paranormal Activity               0              1                 0   \n",
       "\n",
       "                    runtime_cat_long runtime_cat_normal runtime_cat_short  \n",
       "title                                                                      \n",
       "Paranormal Activity                0                  0                 1  \n",
       "\n",
       "[1 rows x 81 columns]"
      ]
     },
     "execution_count": 36,
     "metadata": {},
     "output_type": "execute_result"
    }
   ],
   "source": [
    "movie_df.loc[movie_df.roi==movie_df.roi.max()]"
   ]
  },
  {
   "cell_type": "code",
   "execution_count": 37,
   "metadata": {},
   "outputs": [
    {
     "data": {
      "text/plain": [
       "roi                          1.000000\n",
       "runtime_cat_short            0.057669\n",
       "Horror                       0.056905\n",
       "Mystery                      0.051346\n",
       "budget_cat_low               0.034928\n",
       "seasons_fall                 0.028915\n",
       "mpaa_R                       0.025454\n",
       "gross_dom_Actors             0.021707\n",
       "gross_dom_Cinematographer    0.019851\n",
       "gross_dom_Editor             0.016520\n",
       "dtype: float64"
      ]
     },
     "execution_count": 37,
     "metadata": {},
     "output_type": "execute_result"
    }
   ],
   "source": [
    "movie_df.corrwith(movie_df.roi).sort_values(ascending=False).head(10)"
   ]
  },
  {
   "cell_type": "code",
   "execution_count": 38,
   "metadata": {},
   "outputs": [
    {
     "ename": "NameError",
     "evalue": "name 'begin_columns' is not defined",
     "output_type": "error",
     "traceback": [
      "\u001b[0;31m---------------------------------------------------------------------------\u001b[0m",
      "\u001b[0;31mNameError\u001b[0m                                 Traceback (most recent call last)",
      "\u001b[0;32m<ipython-input-38-5fa6336fd87f>\u001b[0m in \u001b[0;36m<module>\u001b[0;34m\u001b[0m\n\u001b[0;32m----> 1\u001b[0;31m \u001b[0mbegin_columns\u001b[0m \u001b[0;34m=\u001b[0m \u001b[0mbegin_columns\u001b[0m\u001b[0;34m.\u001b[0m\u001b[0mvalues\u001b[0m\u001b[0;34m\u001b[0m\u001b[0;34m\u001b[0m\u001b[0m\n\u001b[0m",
      "\u001b[0;31mNameError\u001b[0m: name 'begin_columns' is not defined"
     ]
    }
   ],
   "source": [
    "begin_columns = begin_columns.values"
   ]
  },
  {
   "cell_type": "code",
   "execution_count": null,
   "metadata": {},
   "outputs": [],
   "source": [
    "begin_columns = np.append(begin_columns, 'roi')"
   ]
  },
  {
   "cell_type": "code",
   "execution_count": null,
   "metadata": {},
   "outputs": [],
   "source": [
    "sns.pairplot(movie_df[movie_df.roi<5][begin_columns])"
   ]
  },
  {
   "cell_type": "code",
   "execution_count": null,
   "metadata": {},
   "outputs": [],
   "source": [
    "begin_columns = begin_columns.tolist()"
   ]
  },
  {
   "cell_type": "code",
   "execution_count": null,
   "metadata": {},
   "outputs": [],
   "source": [
    "begin_columns[0] = 'title'"
   ]
  },
  {
   "cell_type": "code",
   "execution_count": null,
   "metadata": {},
   "outputs": [],
   "source": [
    "movie_df.columns"
   ]
  },
  {
   "cell_type": "code",
   "execution_count": null,
   "metadata": {},
   "outputs": [],
   "source": [
    "sns.boxplot(movie_df.gross_dom)"
   ]
  },
  {
   "cell_type": "code",
   "execution_count": null,
   "metadata": {},
   "outputs": [],
   "source": [
    "movie_df[movie_df.gross_dom>2.5e8].describe()"
   ]
  },
  {
   "cell_type": "code",
   "execution_count": null,
   "metadata": {},
   "outputs": [],
   "source": [
    "movie_df.head()"
   ]
  },
  {
   "cell_type": "code",
   "execution_count": null,
   "metadata": {},
   "outputs": [],
   "source": []
  },
  {
   "cell_type": "code",
   "execution_count": 35,
   "metadata": {},
   "outputs": [],
   "source": [
    "curr=movie_df[['title','Writer']]\n"
   ]
  },
  {
   "cell_type": "code",
   "execution_count": 36,
   "metadata": {},
   "outputs": [],
   "source": [
    "curr_crew = []\n",
    "for row in range(len(curr)):\n",
    "    movietitle = curr.iloc[row][0]\n",
    "    try:\n",
    "        for name in curr.iloc[row][1].split(','):\n",
    "            name = name.strip()\n",
    "            curr_crew.append((movietitle, name))\n",
    "    except:\n",
    "        pass\n",
    "curr_crew = pd.DataFrame(curr_crew, columns=['title', 'Writer'])"
   ]
  },
  {
   "cell_type": "code",
   "execution_count": 37,
   "metadata": {},
   "outputs": [],
   "source": [
    "curr_crew.drop_duplicates(inplace=True)\n",
    "curr_crew=curr_crew.merge(movie_df[['title', 'gross_dom', 'budget', 'release']], on='title')"
   ]
  },
  {
   "cell_type": "code",
   "execution_count": 38,
   "metadata": {},
   "outputs": [],
   "source": [
    "# remove null or nan quantities\n",
    "curr_crew.set_index('Writer', inplace=True)\n",
    "curr_crew = curr_crew.drop('nan').reset_index()\n",
    "\n"
   ]
  },
  {
   "cell_type": "code",
   "execution_count": 39,
   "metadata": {},
   "outputs": [],
   "source": [
    "# get count of total times the crew shows up\n",
    "crew_counts = curr_crew.Writer.value_counts()"
   ]
  },
  {
   "cell_type": "code",
   "execution_count": 40,
   "metadata": {},
   "outputs": [],
   "source": [
    "# sort alphabetically to group the crew members\n",
    "# then sort by release date to put them in order\n",
    "curr_crew = curr_crew.sort_values(by=['Writer', 'release'])\n",
    "unique_writers = curr_crew.Writer.unique()"
   ]
  },
  {
   "cell_type": "code",
   "execution_count": 41,
   "metadata": {},
   "outputs": [],
   "source": [
    "prev = []\n",
    "prev_gross_dom = []\n",
    "prev_budget = []\n",
    "for name in unique_writers:\n",
    "    # generate list with number of times the crew member has shown up prior to the current row (Since 2000)\n",
    "    prev.extend([x for x in range(crew_counts.loc[name])])\n",
    "    # create slices based on position and get sum of previous iterations to get cumulative sum prior to current movie\n",
    "    for c in range(crew_counts.loc[name]):\n",
    "        pg = curr_crew[curr_crew.Writer==name][:c]['gross_dom'].sum()\n",
    "        pb = curr_crew[curr_crew.Writer==name][:c]['budget'].sum()\n",
    "        prev_gross_dom.append(pg)\n",
    "        prev_budget.append(pb)"
   ]
  },
  {
   "cell_type": "code",
   "execution_count": 42,
   "metadata": {},
   "outputs": [],
   "source": [
    "# add each of the above rows as columns on the curr_crew df\n",
    "curr_crew['n_previous'] = prev\n",
    "curr_crew['previous_cumulative_domestic'] = prev_gross_dom\n",
    "curr_crew['previous_cumulative_budget'] = prev_budget"
   ]
  },
  {
   "cell_type": "code",
   "execution_count": 43,
   "metadata": {},
   "outputs": [],
   "source": [
    "curr_crew.reset_index(drop=True, inplace=True)"
   ]
  },
  {
   "cell_type": "code",
   "execution_count": 34,
   "metadata": {},
   "outputs": [
    {
     "data": {
      "text/html": [
       "<div>\n",
       "<style scoped>\n",
       "    .dataframe tbody tr th:only-of-type {\n",
       "        vertical-align: middle;\n",
       "    }\n",
       "\n",
       "    .dataframe tbody tr th {\n",
       "        vertical-align: top;\n",
       "    }\n",
       "\n",
       "    .dataframe thead th {\n",
       "        text-align: right;\n",
       "    }\n",
       "</style>\n",
       "<table border=\"1\" class=\"dataframe\">\n",
       "  <thead>\n",
       "    <tr style=\"text-align: right;\">\n",
       "      <th></th>\n",
       "      <th>title</th>\n",
       "      <th>average_prior_writer_dom</th>\n",
       "      <th>average_prior_writer_budget</th>\n",
       "    </tr>\n",
       "  </thead>\n",
       "  <tbody>\n",
       "    <tr>\n",
       "      <th>3</th>\n",
       "      <td>12 Rounds</td>\n",
       "      <td>NaN</td>\n",
       "      <td>NaN</td>\n",
       "    </tr>\n",
       "    <tr>\n",
       "      <th>10</th>\n",
       "      <td>15 Minutes</td>\n",
       "      <td>NaN</td>\n",
       "      <td>NaN</td>\n",
       "    </tr>\n",
       "    <tr>\n",
       "      <th>11</th>\n",
       "      <td>16 Blocks</td>\n",
       "      <td>NaN</td>\n",
       "      <td>NaN</td>\n",
       "    </tr>\n",
       "    <tr>\n",
       "      <th>13</th>\n",
       "      <td>1917</td>\n",
       "      <td>NaN</td>\n",
       "      <td>NaN</td>\n",
       "    </tr>\n",
       "    <tr>\n",
       "      <th>15</th>\n",
       "      <td>2 Guns</td>\n",
       "      <td>NaN</td>\n",
       "      <td>NaN</td>\n",
       "    </tr>\n",
       "    <tr>\n",
       "      <th>...</th>\n",
       "      <td>...</td>\n",
       "      <td>...</td>\n",
       "      <td>...</td>\n",
       "    </tr>\n",
       "    <tr>\n",
       "      <th>3227</th>\n",
       "      <td>You Got Served</td>\n",
       "      <td>NaN</td>\n",
       "      <td>NaN</td>\n",
       "    </tr>\n",
       "    <tr>\n",
       "      <th>3228</th>\n",
       "      <td>You're Next</td>\n",
       "      <td>NaN</td>\n",
       "      <td>NaN</td>\n",
       "    </tr>\n",
       "    <tr>\n",
       "      <th>3229</th>\n",
       "      <td>You, Me and Dupree</td>\n",
       "      <td>NaN</td>\n",
       "      <td>NaN</td>\n",
       "    </tr>\n",
       "    <tr>\n",
       "      <th>3235</th>\n",
       "      <td>Yu-Gi-Oh!: The Movie - Pyramid of Light</td>\n",
       "      <td>NaN</td>\n",
       "      <td>NaN</td>\n",
       "    </tr>\n",
       "    <tr>\n",
       "      <th>3247</th>\n",
       "      <td>xXx</td>\n",
       "      <td>NaN</td>\n",
       "      <td>NaN</td>\n",
       "    </tr>\n",
       "  </tbody>\n",
       "</table>\n",
       "<p>1191 rows × 3 columns</p>\n",
       "</div>"
      ],
      "text/plain": [
       "                                        title  average_prior_writer_dom  \\\n",
       "3                                   12 Rounds                       NaN   \n",
       "10                                 15 Minutes                       NaN   \n",
       "11                                  16 Blocks                       NaN   \n",
       "13                                       1917                       NaN   \n",
       "15                                     2 Guns                       NaN   \n",
       "...                                       ...                       ...   \n",
       "3227                           You Got Served                       NaN   \n",
       "3228                              You're Next                       NaN   \n",
       "3229                       You, Me and Dupree                       NaN   \n",
       "3235  Yu-Gi-Oh!: The Movie - Pyramid of Light                       NaN   \n",
       "3247                                      xXx                       NaN   \n",
       "\n",
       "      average_prior_writer_budget  \n",
       "3                             NaN  \n",
       "10                            NaN  \n",
       "11                            NaN  \n",
       "13                            NaN  \n",
       "15                            NaN  \n",
       "...                           ...  \n",
       "3227                          NaN  \n",
       "3228                          NaN  \n",
       "3229                          NaN  \n",
       "3235                          NaN  \n",
       "3247                          NaN  \n",
       "\n",
       "[1191 rows x 3 columns]"
      ]
     },
     "execution_count": 34,
     "metadata": {},
     "output_type": "execute_result"
    }
   ],
   "source": [
    "curr_crew[curr_crew.average_prior_writer_budget.isnull()]"
   ]
  },
  {
   "cell_type": "code",
   "execution_count": 53,
   "metadata": {},
   "outputs": [],
   "source": [
    "# get the writer's prior average\n",
    "curr_crew['average_prior_writer_dom'] = curr_crew['previous_cumulative_domestic']/curr_crew['n_previous']\n",
    "curr_crew['average_prior_writer_budget'] = curr_crew['previous_cumulative_budget']/curr_crew['n_previous']\n",
    "\n",
    "# fill na with 0 when n_previous=0\n",
    "curr_crew['average_prior_writer_dom'].fillna(value=0, inplace=True)\n",
    "curr_crew['average_prior_writer_budget'].fillna(value=0, inplace=True)"
   ]
  },
  {
   "cell_type": "code",
   "execution_count": 55,
   "metadata": {},
   "outputs": [],
   "source": [
    "# Averages the writer's prior averages who share the same movie title\n",
    "curr_crew = curr_crew.groupby('title', as_index=False).aggregate({'average_prior_writer_dom': 'mean', 'average_prior_writer_budget': 'mean'})"
   ]
  },
  {
   "cell_type": "code",
   "execution_count": 57,
   "metadata": {},
   "outputs": [
    {
     "data": {
      "text/html": [
       "<div>\n",
       "<style scoped>\n",
       "    .dataframe tbody tr th:only-of-type {\n",
       "        vertical-align: middle;\n",
       "    }\n",
       "\n",
       "    .dataframe tbody tr th {\n",
       "        vertical-align: top;\n",
       "    }\n",
       "\n",
       "    .dataframe thead th {\n",
       "        text-align: right;\n",
       "    }\n",
       "</style>\n",
       "<table border=\"1\" class=\"dataframe\">\n",
       "  <thead>\n",
       "    <tr style=\"text-align: right;\">\n",
       "      <th></th>\n",
       "      <th>title</th>\n",
       "      <th>link_stub</th>\n",
       "      <th>release</th>\n",
       "      <th>theaters</th>\n",
       "      <th>desc</th>\n",
       "      <th>distr</th>\n",
       "      <th>opening</th>\n",
       "      <th>budget</th>\n",
       "      <th>mpaa</th>\n",
       "      <th>runtime</th>\n",
       "      <th>...</th>\n",
       "      <th>average_prior_Production Designer_dom</th>\n",
       "      <th>average_prior_Production Designer_budget</th>\n",
       "      <th>average_prior_Writer_dom</th>\n",
       "      <th>average_prior_Writer_budget</th>\n",
       "      <th>average_prior_Producer_dom</th>\n",
       "      <th>average_prior_Producer_budget</th>\n",
       "      <th>average_prior_Actors_dom</th>\n",
       "      <th>average_prior_Actors_budget</th>\n",
       "      <th>average_prior_writer_dom</th>\n",
       "      <th>average_prior_writer_budget</th>\n",
       "    </tr>\n",
       "  </thead>\n",
       "  <tbody>\n",
       "    <tr>\n",
       "      <th>0</th>\n",
       "      <td>Sin City</td>\n",
       "      <td>/release/rl3027338753/?ref_=bo_yld_table_32</td>\n",
       "      <td>2005-04-01</td>\n",
       "      <td>3230</td>\n",
       "      <td>A movie that explores the dark and miserable t...</td>\n",
       "      <td>Dimension Films</td>\n",
       "      <td>28100000.0</td>\n",
       "      <td>40000000.0</td>\n",
       "      <td>R</td>\n",
       "      <td>124.0</td>\n",
       "      <td>...</td>\n",
       "      <td>NaN</td>\n",
       "      <td>NaN</td>\n",
       "      <td>5.804076e+07</td>\n",
       "      <td>39000000.0</td>\n",
       "      <td>9.167180e+07</td>\n",
       "      <td>3.500000e+07</td>\n",
       "      <td>5.261177e+07</td>\n",
       "      <td>4.399259e+07</td>\n",
       "      <td>5.804076e+07</td>\n",
       "      <td>3.900000e+07</td>\n",
       "    </tr>\n",
       "    <tr>\n",
       "      <th>1</th>\n",
       "      <td>Insidious</td>\n",
       "      <td>/release/rl3428550145/?ref_=bo_yld_table_63</td>\n",
       "      <td>2011-04-01</td>\n",
       "      <td>2419</td>\n",
       "      <td>A family looks to prevent evil spirits from tr...</td>\n",
       "      <td>FilmDistrict</td>\n",
       "      <td>13271464.0</td>\n",
       "      <td>1500000.0</td>\n",
       "      <td>PG-13</td>\n",
       "      <td>103.0</td>\n",
       "      <td>...</td>\n",
       "      <td>NaN</td>\n",
       "      <td>NaN</td>\n",
       "      <td>4.622577e+07</td>\n",
       "      <td>8800000.0</td>\n",
       "      <td>9.028359e+07</td>\n",
       "      <td>9.256250e+06</td>\n",
       "      <td>4.665294e+07</td>\n",
       "      <td>3.515000e+07</td>\n",
       "      <td>4.622577e+07</td>\n",
       "      <td>8.800000e+06</td>\n",
       "    </tr>\n",
       "    <tr>\n",
       "      <th>2</th>\n",
       "      <td>Hop</td>\n",
       "      <td>/release/rl391874049/?ref_=bo_yld_table_25</td>\n",
       "      <td>2011-04-01</td>\n",
       "      <td>3616</td>\n",
       "      <td>E.B., the Easter Bunny's teenage son, heads to...</td>\n",
       "      <td>Universal Pictures</td>\n",
       "      <td>37543710.0</td>\n",
       "      <td>63000000.0</td>\n",
       "      <td>PG</td>\n",
       "      <td>95.0</td>\n",
       "      <td>...</td>\n",
       "      <td>7.884935e+07</td>\n",
       "      <td>5.320000e+07</td>\n",
       "      <td>1.191796e+08</td>\n",
       "      <td>46400000.0</td>\n",
       "      <td>2.515140e+08</td>\n",
       "      <td>6.900000e+07</td>\n",
       "      <td>9.417180e+07</td>\n",
       "      <td>5.880159e+07</td>\n",
       "      <td>7.945308e+07</td>\n",
       "      <td>3.093333e+07</td>\n",
       "    </tr>\n",
       "    <tr>\n",
       "      <th>3</th>\n",
       "      <td>Source Code</td>\n",
       "      <td>/release/rl4033906177/?ref_=bo_yld_table_60</td>\n",
       "      <td>2011-04-01</td>\n",
       "      <td>2971</td>\n",
       "      <td>A soldier wakes up in someone else's body and ...</td>\n",
       "      <td>Summit Entertainment</td>\n",
       "      <td>14812094.0</td>\n",
       "      <td>32000000.0</td>\n",
       "      <td>PG-13</td>\n",
       "      <td>93.0</td>\n",
       "      <td>...</td>\n",
       "      <td>8.567621e+07</td>\n",
       "      <td>7.466667e+07</td>\n",
       "      <td>NaN</td>\n",
       "      <td>NaN</td>\n",
       "      <td>5.121929e+07</td>\n",
       "      <td>6.031250e+07</td>\n",
       "      <td>6.005874e+07</td>\n",
       "      <td>5.043939e+07</td>\n",
       "      <td>0.000000e+00</td>\n",
       "      <td>0.000000e+00</td>\n",
       "    </tr>\n",
       "    <tr>\n",
       "      <th>4</th>\n",
       "      <td>Woman in Gold</td>\n",
       "      <td>/release/rl981108225/?ref_=bo_yld_table_77</td>\n",
       "      <td>2015-04-01</td>\n",
       "      <td>2011</td>\n",
       "      <td>Maria Altmann, an octogenarian Jewish refugee,...</td>\n",
       "      <td>The Weinstein Company</td>\n",
       "      <td>2091551.0</td>\n",
       "      <td>11000000.0</td>\n",
       "      <td>PG-13</td>\n",
       "      <td>109.0</td>\n",
       "      <td>...</td>\n",
       "      <td>3.153619e+07</td>\n",
       "      <td>4.077778e+07</td>\n",
       "      <td>NaN</td>\n",
       "      <td>NaN</td>\n",
       "      <td>3.962443e+07</td>\n",
       "      <td>2.500000e+07</td>\n",
       "      <td>4.535393e+07</td>\n",
       "      <td>3.303529e+07</td>\n",
       "      <td>0.000000e+00</td>\n",
       "      <td>0.000000e+00</td>\n",
       "    </tr>\n",
       "    <tr>\n",
       "      <th>...</th>\n",
       "      <td>...</td>\n",
       "      <td>...</td>\n",
       "      <td>...</td>\n",
       "      <td>...</td>\n",
       "      <td>...</td>\n",
       "      <td>...</td>\n",
       "      <td>...</td>\n",
       "      <td>...</td>\n",
       "      <td>...</td>\n",
       "      <td>...</td>\n",
       "      <td>...</td>\n",
       "      <td>...</td>\n",
       "      <td>...</td>\n",
       "      <td>...</td>\n",
       "      <td>...</td>\n",
       "      <td>...</td>\n",
       "      <td>...</td>\n",
       "      <td>...</td>\n",
       "      <td>...</td>\n",
       "      <td>...</td>\n",
       "      <td>...</td>\n",
       "    </tr>\n",
       "    <tr>\n",
       "      <th>3280</th>\n",
       "      <td>Bucky Larson: Born to Be a Star</td>\n",
       "      <td>/release/rl2856748545/?ref_=bo_yld_table_191</td>\n",
       "      <td>2011-09-09</td>\n",
       "      <td>1500</td>\n",
       "      <td>A kid from the Midwest moves out to Hollywood ...</td>\n",
       "      <td>Sony Pictures Entertainment (SPE)</td>\n",
       "      <td>1415023.0</td>\n",
       "      <td>10000000.0</td>\n",
       "      <td>R</td>\n",
       "      <td>97.0</td>\n",
       "      <td>...</td>\n",
       "      <td>3.165629e+07</td>\n",
       "      <td>1.120000e+07</td>\n",
       "      <td>4.818780e+07</td>\n",
       "      <td>30250000.0</td>\n",
       "      <td>6.957415e+07</td>\n",
       "      <td>4.050783e+07</td>\n",
       "      <td>3.694205e+07</td>\n",
       "      <td>3.712500e+07</td>\n",
       "      <td>4.818780e+07</td>\n",
       "      <td>3.025000e+07</td>\n",
       "    </tr>\n",
       "    <tr>\n",
       "      <th>3281</th>\n",
       "      <td>Sully</td>\n",
       "      <td>/release/rl3581707777/?ref_=bo_yld_table_24</td>\n",
       "      <td>2016-09-09</td>\n",
       "      <td>3955</td>\n",
       "      <td>The story of Chesley \"Sully\" Sullenberger (Tom...</td>\n",
       "      <td>Warner Bros.</td>\n",
       "      <td>35028301.0</td>\n",
       "      <td>60000000.0</td>\n",
       "      <td>PG-13</td>\n",
       "      <td>96.0</td>\n",
       "      <td>...</td>\n",
       "      <td>8.200800e+07</td>\n",
       "      <td>3.897778e+07</td>\n",
       "      <td>2.398495e+07</td>\n",
       "      <td>0.0</td>\n",
       "      <td>7.015985e+07</td>\n",
       "      <td>4.812143e+07</td>\n",
       "      <td>7.752383e+07</td>\n",
       "      <td>4.863275e+07</td>\n",
       "      <td>7.994983e+06</td>\n",
       "      <td>0.000000e+00</td>\n",
       "    </tr>\n",
       "    <tr>\n",
       "      <th>3282</th>\n",
       "      <td>The Wild Life</td>\n",
       "      <td>/release/rl1719633409/?ref_=bo_yld_table_157</td>\n",
       "      <td>2016-09-09</td>\n",
       "      <td>2493</td>\n",
       "      <td>A daring parrot recounts how Robinson Crusoe c...</td>\n",
       "      <td>Lionsgate</td>\n",
       "      <td>3342696.0</td>\n",
       "      <td>NaN</td>\n",
       "      <td>PG</td>\n",
       "      <td>91.0</td>\n",
       "      <td>...</td>\n",
       "      <td>NaN</td>\n",
       "      <td>NaN</td>\n",
       "      <td>1.381698e+07</td>\n",
       "      <td>25000000.0</td>\n",
       "      <td>1.381698e+07</td>\n",
       "      <td>2.500000e+07</td>\n",
       "      <td>NaN</td>\n",
       "      <td>NaN</td>\n",
       "      <td>6.908491e+06</td>\n",
       "      <td>1.250000e+07</td>\n",
       "    </tr>\n",
       "    <tr>\n",
       "      <th>3283</th>\n",
       "      <td>When the Bough Breaks</td>\n",
       "      <td>/release/rl3866658305/?ref_=bo_yld_table_91</td>\n",
       "      <td>2016-09-09</td>\n",
       "      <td>2246</td>\n",
       "      <td>A surrogate mom for a couple becomes dangerous...</td>\n",
       "      <td>Screen Gems</td>\n",
       "      <td>14202323.0</td>\n",
       "      <td>10000000.0</td>\n",
       "      <td>PG-13</td>\n",
       "      <td>107.0</td>\n",
       "      <td>...</td>\n",
       "      <td>6.600989e+07</td>\n",
       "      <td>2.440000e+07</td>\n",
       "      <td>NaN</td>\n",
       "      <td>NaN</td>\n",
       "      <td>NaN</td>\n",
       "      <td>NaN</td>\n",
       "      <td>4.873878e+07</td>\n",
       "      <td>2.262115e+07</td>\n",
       "      <td>0.000000e+00</td>\n",
       "      <td>0.000000e+00</td>\n",
       "    </tr>\n",
       "    <tr>\n",
       "      <th>3284</th>\n",
       "      <td>The Disappointments Room</td>\n",
       "      <td>/release/rl2186249729/?ref_=bo_yld_table_208</td>\n",
       "      <td>2016-09-09</td>\n",
       "      <td>1554</td>\n",
       "      <td>A mother and her young son release unimaginabl...</td>\n",
       "      <td>Relativity Media</td>\n",
       "      <td>1402823.0</td>\n",
       "      <td>15000000.0</td>\n",
       "      <td>R</td>\n",
       "      <td>91.0</td>\n",
       "      <td>...</td>\n",
       "      <td>4.774596e+07</td>\n",
       "      <td>4.000000e+07</td>\n",
       "      <td>NaN</td>\n",
       "      <td>NaN</td>\n",
       "      <td>5.203529e+07</td>\n",
       "      <td>3.265686e+07</td>\n",
       "      <td>6.884722e+07</td>\n",
       "      <td>5.782143e+07</td>\n",
       "      <td>0.000000e+00</td>\n",
       "      <td>0.000000e+00</td>\n",
       "    </tr>\n",
       "  </tbody>\n",
       "</table>\n",
       "<p>3285 rows × 44 columns</p>\n",
       "</div>"
      ],
      "text/plain": [
       "                                title  \\\n",
       "0                            Sin City   \n",
       "1                           Insidious   \n",
       "2                                 Hop   \n",
       "3                         Source Code   \n",
       "4                       Woman in Gold   \n",
       "...                               ...   \n",
       "3280  Bucky Larson: Born to Be a Star   \n",
       "3281                            Sully   \n",
       "3282                    The Wild Life   \n",
       "3283            When the Bough Breaks   \n",
       "3284         The Disappointments Room   \n",
       "\n",
       "                                         link_stub    release theaters  \\\n",
       "0      /release/rl3027338753/?ref_=bo_yld_table_32 2005-04-01     3230   \n",
       "1      /release/rl3428550145/?ref_=bo_yld_table_63 2011-04-01     2419   \n",
       "2       /release/rl391874049/?ref_=bo_yld_table_25 2011-04-01     3616   \n",
       "3      /release/rl4033906177/?ref_=bo_yld_table_60 2011-04-01     2971   \n",
       "4       /release/rl981108225/?ref_=bo_yld_table_77 2015-04-01     2011   \n",
       "...                                            ...        ...      ...   \n",
       "3280  /release/rl2856748545/?ref_=bo_yld_table_191 2011-09-09     1500   \n",
       "3281   /release/rl3581707777/?ref_=bo_yld_table_24 2016-09-09     3955   \n",
       "3282  /release/rl1719633409/?ref_=bo_yld_table_157 2016-09-09     2493   \n",
       "3283   /release/rl3866658305/?ref_=bo_yld_table_91 2016-09-09     2246   \n",
       "3284  /release/rl2186249729/?ref_=bo_yld_table_208 2016-09-09     1554   \n",
       "\n",
       "                                                   desc  \\\n",
       "0     A movie that explores the dark and miserable t...   \n",
       "1     A family looks to prevent evil spirits from tr...   \n",
       "2     E.B., the Easter Bunny's teenage son, heads to...   \n",
       "3     A soldier wakes up in someone else's body and ...   \n",
       "4     Maria Altmann, an octogenarian Jewish refugee,...   \n",
       "...                                                 ...   \n",
       "3280  A kid from the Midwest moves out to Hollywood ...   \n",
       "3281  The story of Chesley \"Sully\" Sullenberger (Tom...   \n",
       "3282  A daring parrot recounts how Robinson Crusoe c...   \n",
       "3283  A surrogate mom for a couple becomes dangerous...   \n",
       "3284  A mother and her young son release unimaginabl...   \n",
       "\n",
       "                                  distr     opening      budget   mpaa  \\\n",
       "0                       Dimension Films  28100000.0  40000000.0      R   \n",
       "1                          FilmDistrict  13271464.0   1500000.0  PG-13   \n",
       "2                    Universal Pictures  37543710.0  63000000.0     PG   \n",
       "3                  Summit Entertainment  14812094.0  32000000.0  PG-13   \n",
       "4                 The Weinstein Company   2091551.0  11000000.0  PG-13   \n",
       "...                                 ...         ...         ...    ...   \n",
       "3280  Sony Pictures Entertainment (SPE)   1415023.0  10000000.0      R   \n",
       "3281                       Warner Bros.  35028301.0  60000000.0  PG-13   \n",
       "3282                          Lionsgate   3342696.0         NaN     PG   \n",
       "3283                        Screen Gems  14202323.0  10000000.0  PG-13   \n",
       "3284                   Relativity Media   1402823.0  15000000.0      R   \n",
       "\n",
       "      runtime  ... average_prior_Production Designer_dom  \\\n",
       "0       124.0  ...                                   NaN   \n",
       "1       103.0  ...                                   NaN   \n",
       "2        95.0  ...                          7.884935e+07   \n",
       "3        93.0  ...                          8.567621e+07   \n",
       "4       109.0  ...                          3.153619e+07   \n",
       "...       ...  ...                                   ...   \n",
       "3280     97.0  ...                          3.165629e+07   \n",
       "3281     96.0  ...                          8.200800e+07   \n",
       "3282     91.0  ...                                   NaN   \n",
       "3283    107.0  ...                          6.600989e+07   \n",
       "3284     91.0  ...                          4.774596e+07   \n",
       "\n",
       "      average_prior_Production Designer_budget  average_prior_Writer_dom  \\\n",
       "0                                          NaN              5.804076e+07   \n",
       "1                                          NaN              4.622577e+07   \n",
       "2                                 5.320000e+07              1.191796e+08   \n",
       "3                                 7.466667e+07                       NaN   \n",
       "4                                 4.077778e+07                       NaN   \n",
       "...                                        ...                       ...   \n",
       "3280                              1.120000e+07              4.818780e+07   \n",
       "3281                              3.897778e+07              2.398495e+07   \n",
       "3282                                       NaN              1.381698e+07   \n",
       "3283                              2.440000e+07                       NaN   \n",
       "3284                              4.000000e+07                       NaN   \n",
       "\n",
       "      average_prior_Writer_budget average_prior_Producer_dom  \\\n",
       "0                      39000000.0               9.167180e+07   \n",
       "1                       8800000.0               9.028359e+07   \n",
       "2                      46400000.0               2.515140e+08   \n",
       "3                             NaN               5.121929e+07   \n",
       "4                             NaN               3.962443e+07   \n",
       "...                           ...                        ...   \n",
       "3280                   30250000.0               6.957415e+07   \n",
       "3281                          0.0               7.015985e+07   \n",
       "3282                   25000000.0               1.381698e+07   \n",
       "3283                          NaN                        NaN   \n",
       "3284                          NaN               5.203529e+07   \n",
       "\n",
       "     average_prior_Producer_budget average_prior_Actors_dom  \\\n",
       "0                     3.500000e+07             5.261177e+07   \n",
       "1                     9.256250e+06             4.665294e+07   \n",
       "2                     6.900000e+07             9.417180e+07   \n",
       "3                     6.031250e+07             6.005874e+07   \n",
       "4                     2.500000e+07             4.535393e+07   \n",
       "...                            ...                      ...   \n",
       "3280                  4.050783e+07             3.694205e+07   \n",
       "3281                  4.812143e+07             7.752383e+07   \n",
       "3282                  2.500000e+07                      NaN   \n",
       "3283                           NaN             4.873878e+07   \n",
       "3284                  3.265686e+07             6.884722e+07   \n",
       "\n",
       "     average_prior_Actors_budget average_prior_writer_dom  \\\n",
       "0                   4.399259e+07             5.804076e+07   \n",
       "1                   3.515000e+07             4.622577e+07   \n",
       "2                   5.880159e+07             7.945308e+07   \n",
       "3                   5.043939e+07             0.000000e+00   \n",
       "4                   3.303529e+07             0.000000e+00   \n",
       "...                          ...                      ...   \n",
       "3280                3.712500e+07             4.818780e+07   \n",
       "3281                4.863275e+07             7.994983e+06   \n",
       "3282                         NaN             6.908491e+06   \n",
       "3283                2.262115e+07             0.000000e+00   \n",
       "3284                5.782143e+07             0.000000e+00   \n",
       "\n",
       "     average_prior_writer_budget  \n",
       "0                   3.900000e+07  \n",
       "1                   8.800000e+06  \n",
       "2                   3.093333e+07  \n",
       "3                   0.000000e+00  \n",
       "4                   0.000000e+00  \n",
       "...                          ...  \n",
       "3280                3.025000e+07  \n",
       "3281                0.000000e+00  \n",
       "3282                1.250000e+07  \n",
       "3283                0.000000e+00  \n",
       "3284                0.000000e+00  \n",
       "\n",
       "[3285 rows x 44 columns]"
      ]
     },
     "execution_count": 57,
     "metadata": {},
     "output_type": "execute_result"
    }
   ],
   "source": [
    "# merge movie_df and curr_crew\n",
    "# how='left' to presrve values from the left df (movie_df) and fills in nans \n",
    "movie_df.merge(curr_crew, on='title', how='left')"
   ]
  },
  {
   "cell_type": "code",
   "execution_count": 211,
   "metadata": {},
   "outputs": [
    {
     "data": {
      "text/plain": [
       "3285"
      ]
     },
     "execution_count": 211,
     "metadata": {},
     "output_type": "execute_result"
    }
   ],
   "source": [
    "len(movie_df)"
   ]
  },
  {
   "cell_type": "code",
   "execution_count": 212,
   "metadata": {},
   "outputs": [
    {
     "data": {
      "text/html": [
       "<div>\n",
       "<style scoped>\n",
       "    .dataframe tbody tr th:only-of-type {\n",
       "        vertical-align: middle;\n",
       "    }\n",
       "\n",
       "    .dataframe tbody tr th {\n",
       "        vertical-align: top;\n",
       "    }\n",
       "\n",
       "    .dataframe thead th {\n",
       "        text-align: right;\n",
       "    }\n",
       "</style>\n",
       "<table border=\"1\" class=\"dataframe\">\n",
       "  <thead>\n",
       "    <tr style=\"text-align: right;\">\n",
       "      <th></th>\n",
       "      <th>title</th>\n",
       "      <th>link_stub</th>\n",
       "      <th>release</th>\n",
       "      <th>theaters</th>\n",
       "      <th>desc</th>\n",
       "      <th>distr</th>\n",
       "      <th>opening</th>\n",
       "      <th>budget</th>\n",
       "      <th>mpaa</th>\n",
       "      <th>runtime</th>\n",
       "      <th>...</th>\n",
       "      <th>Producer</th>\n",
       "      <th>Composer</th>\n",
       "      <th>Cinematographer</th>\n",
       "      <th>Editor</th>\n",
       "      <th>Production Designer</th>\n",
       "      <th>Actors</th>\n",
       "      <th>holiday_distance</th>\n",
       "      <th>year</th>\n",
       "      <th>average_prior_writer_dom</th>\n",
       "      <th>average_prior_writer_prior</th>\n",
       "    </tr>\n",
       "  </thead>\n",
       "  <tbody>\n",
       "    <tr>\n",
       "      <th>0</th>\n",
       "      <td>Sin City</td>\n",
       "      <td>/release/rl3027338753/?ref_=bo_yld_table_32</td>\n",
       "      <td>2005-04-01</td>\n",
       "      <td>3230</td>\n",
       "      <td>A movie that explores the dark and miserable t...</td>\n",
       "      <td>Dimension Films</td>\n",
       "      <td>28100000.0</td>\n",
       "      <td>40000000.0</td>\n",
       "      <td>R</td>\n",
       "      <td>124.0</td>\n",
       "      <td>...</td>\n",
       "      <td>Elizabeth Avellan</td>\n",
       "      <td>John Debney, Graeme Revell, Robert Rodriguez</td>\n",
       "      <td>Robert Rodriguez</td>\n",
       "      <td>Robert Rodriguez</td>\n",
       "      <td>nan</td>\n",
       "      <td>Mickey Rourke, Clive Owen, Bruce Willis, Jessi...</td>\n",
       "      <td>39</td>\n",
       "      <td>5</td>\n",
       "      <td>5.804076e+07</td>\n",
       "      <td>39000000.0</td>\n",
       "    </tr>\n",
       "    <tr>\n",
       "      <th>1</th>\n",
       "      <td>Insidious</td>\n",
       "      <td>/release/rl3428550145/?ref_=bo_yld_table_63</td>\n",
       "      <td>2011-04-01</td>\n",
       "      <td>2419</td>\n",
       "      <td>A family looks to prevent evil spirits from tr...</td>\n",
       "      <td>FilmDistrict</td>\n",
       "      <td>13271464.0</td>\n",
       "      <td>1500000.0</td>\n",
       "      <td>PG-13</td>\n",
       "      <td>103.0</td>\n",
       "      <td>...</td>\n",
       "      <td>Jason Blum, Oren Peli, Steven Schneider</td>\n",
       "      <td>Joseph Bishara</td>\n",
       "      <td>David M. Brewer, John R. Leonetti</td>\n",
       "      <td>Kirk M. Morri, James Wan</td>\n",
       "      <td>Aaron Sims</td>\n",
       "      <td>Patrick Wilson, Rose Byrne, Ty Simpkins, Lin S...</td>\n",
       "      <td>39</td>\n",
       "      <td>11</td>\n",
       "      <td>4.622577e+07</td>\n",
       "      <td>8800000.0</td>\n",
       "    </tr>\n",
       "    <tr>\n",
       "      <th>2</th>\n",
       "      <td>Hop</td>\n",
       "      <td>/release/rl391874049/?ref_=bo_yld_table_25</td>\n",
       "      <td>2011-04-01</td>\n",
       "      <td>3616</td>\n",
       "      <td>E.B., the Easter Bunny's teenage son, heads to...</td>\n",
       "      <td>Universal Pictures</td>\n",
       "      <td>37543710.0</td>\n",
       "      <td>63000000.0</td>\n",
       "      <td>PG</td>\n",
       "      <td>95.0</td>\n",
       "      <td>...</td>\n",
       "      <td>Michele Imperato, Christopher Meledandri</td>\n",
       "      <td>Christopher Lennertz</td>\n",
       "      <td>Peter Lyons Collister</td>\n",
       "      <td>Peter S. Elliot, Gregory Perler</td>\n",
       "      <td>Richard Holland</td>\n",
       "      <td>Russell Brand, James Marsden, Elizabeth Perkin...</td>\n",
       "      <td>39</td>\n",
       "      <td>11</td>\n",
       "      <td>1.191796e+08</td>\n",
       "      <td>46400000.0</td>\n",
       "    </tr>\n",
       "    <tr>\n",
       "      <th>3</th>\n",
       "      <td>Source Code</td>\n",
       "      <td>/release/rl4033906177/?ref_=bo_yld_table_60</td>\n",
       "      <td>2011-04-01</td>\n",
       "      <td>2971</td>\n",
       "      <td>A soldier wakes up in someone else's body and ...</td>\n",
       "      <td>Summit Entertainment</td>\n",
       "      <td>14812094.0</td>\n",
       "      <td>32000000.0</td>\n",
       "      <td>PG-13</td>\n",
       "      <td>93.0</td>\n",
       "      <td>...</td>\n",
       "      <td>Mark Gordon, Philippe Rousselet, Jordan Wynn</td>\n",
       "      <td>Chris Bacon</td>\n",
       "      <td>Don Burgess</td>\n",
       "      <td>Paul Hirsch</td>\n",
       "      <td>Barry Chusid</td>\n",
       "      <td>Jake Gyllenhaal, Michelle Monaghan, Vera Farmi...</td>\n",
       "      <td>39</td>\n",
       "      <td>11</td>\n",
       "      <td>NaN</td>\n",
       "      <td>NaN</td>\n",
       "    </tr>\n",
       "    <tr>\n",
       "      <th>4</th>\n",
       "      <td>Woman in Gold</td>\n",
       "      <td>/release/rl981108225/?ref_=bo_yld_table_77</td>\n",
       "      <td>2015-04-01</td>\n",
       "      <td>2011</td>\n",
       "      <td>Maria Altmann, an octogenarian Jewish refugee,...</td>\n",
       "      <td>The Weinstein Company</td>\n",
       "      <td>2091551.0</td>\n",
       "      <td>11000000.0</td>\n",
       "      <td>PG-13</td>\n",
       "      <td>109.0</td>\n",
       "      <td>...</td>\n",
       "      <td>David M. Thompson, Kris Thykier</td>\n",
       "      <td>Martin Phipps, Hans Zimmer</td>\n",
       "      <td>Ross Emery</td>\n",
       "      <td>Peter Lambert</td>\n",
       "      <td>Jim Clay</td>\n",
       "      <td>Helen Mirren, Ryan Reynolds, Daniel Brühl, Kat...</td>\n",
       "      <td>44</td>\n",
       "      <td>15</td>\n",
       "      <td>NaN</td>\n",
       "      <td>NaN</td>\n",
       "    </tr>\n",
       "    <tr>\n",
       "      <th>...</th>\n",
       "      <td>...</td>\n",
       "      <td>...</td>\n",
       "      <td>...</td>\n",
       "      <td>...</td>\n",
       "      <td>...</td>\n",
       "      <td>...</td>\n",
       "      <td>...</td>\n",
       "      <td>...</td>\n",
       "      <td>...</td>\n",
       "      <td>...</td>\n",
       "      <td>...</td>\n",
       "      <td>...</td>\n",
       "      <td>...</td>\n",
       "      <td>...</td>\n",
       "      <td>...</td>\n",
       "      <td>...</td>\n",
       "      <td>...</td>\n",
       "      <td>...</td>\n",
       "      <td>...</td>\n",
       "      <td>...</td>\n",
       "      <td>...</td>\n",
       "    </tr>\n",
       "    <tr>\n",
       "      <th>3246</th>\n",
       "      <td>Bucky Larson: Born to Be a Star</td>\n",
       "      <td>/release/rl2856748545/?ref_=bo_yld_table_191</td>\n",
       "      <td>2011-09-09</td>\n",
       "      <td>1500</td>\n",
       "      <td>A kid from the Midwest moves out to Hollywood ...</td>\n",
       "      <td>Sony Pictures Entertainment (SPE)</td>\n",
       "      <td>1415023.0</td>\n",
       "      <td>10000000.0</td>\n",
       "      <td>R</td>\n",
       "      <td>97.0</td>\n",
       "      <td>...</td>\n",
       "      <td>Allen Covert, David Dorfman, Jack Giarraputo, ...</td>\n",
       "      <td>Waddy Wachtel</td>\n",
       "      <td>Michael Barrett</td>\n",
       "      <td>Jason Gourson</td>\n",
       "      <td>Dina Lipton</td>\n",
       "      <td>Nick Swardson, Don Johnson, Christina Ricci, S...</td>\n",
       "      <td>4</td>\n",
       "      <td>11</td>\n",
       "      <td>4.818780e+07</td>\n",
       "      <td>30250000.0</td>\n",
       "    </tr>\n",
       "    <tr>\n",
       "      <th>3247</th>\n",
       "      <td>Sully</td>\n",
       "      <td>/release/rl3581707777/?ref_=bo_yld_table_24</td>\n",
       "      <td>2016-09-09</td>\n",
       "      <td>3955</td>\n",
       "      <td>The story of Chesley \"Sully\" Sullenberger (Tom...</td>\n",
       "      <td>Warner Bros.</td>\n",
       "      <td>35028301.0</td>\n",
       "      <td>60000000.0</td>\n",
       "      <td>PG-13</td>\n",
       "      <td>96.0</td>\n",
       "      <td>...</td>\n",
       "      <td>Clint Eastwood, Frank Marshall, Tim Moore, All...</td>\n",
       "      <td>Christian Jacob, Tierney Sutton Band</td>\n",
       "      <td>Tom Stern</td>\n",
       "      <td>Blu Murray</td>\n",
       "      <td>James J. Murakami</td>\n",
       "      <td>Tom Hanks, Aaron Eckhart, Laura Linney, Valeri...</td>\n",
       "      <td>4</td>\n",
       "      <td>16</td>\n",
       "      <td>2.398495e+07</td>\n",
       "      <td>0.0</td>\n",
       "    </tr>\n",
       "    <tr>\n",
       "      <th>3248</th>\n",
       "      <td>The Wild Life</td>\n",
       "      <td>/release/rl1719633409/?ref_=bo_yld_table_157</td>\n",
       "      <td>2016-09-09</td>\n",
       "      <td>2493</td>\n",
       "      <td>A daring parrot recounts how Robinson Crusoe c...</td>\n",
       "      <td>Lionsgate</td>\n",
       "      <td>3342696.0</td>\n",
       "      <td>NaN</td>\n",
       "      <td>PG</td>\n",
       "      <td>91.0</td>\n",
       "      <td>...</td>\n",
       "      <td>Gina Gallo, Mimi Maynard, Domonic Paris, Ben S...</td>\n",
       "      <td>Ramin Djawadi</td>\n",
       "      <td>nan</td>\n",
       "      <td>Vincent Kesteloot</td>\n",
       "      <td>nan</td>\n",
       "      <td>Matthias Schweighöfer, Kaya Yanar, Ilka Bessin...</td>\n",
       "      <td>4</td>\n",
       "      <td>16</td>\n",
       "      <td>1.381698e+07</td>\n",
       "      <td>25000000.0</td>\n",
       "    </tr>\n",
       "    <tr>\n",
       "      <th>3249</th>\n",
       "      <td>When the Bough Breaks</td>\n",
       "      <td>/release/rl3866658305/?ref_=bo_yld_table_91</td>\n",
       "      <td>2016-09-09</td>\n",
       "      <td>2246</td>\n",
       "      <td>A surrogate mom for a couple becomes dangerous...</td>\n",
       "      <td>Screen Gems</td>\n",
       "      <td>14202323.0</td>\n",
       "      <td>10000000.0</td>\n",
       "      <td>PG-13</td>\n",
       "      <td>107.0</td>\n",
       "      <td>...</td>\n",
       "      <td>Michael Lynne, Robert Shaye</td>\n",
       "      <td>John Frizzell</td>\n",
       "      <td>David Moxness</td>\n",
       "      <td>Scott Powell</td>\n",
       "      <td>Chris Cornwell</td>\n",
       "      <td>Morris Chestnut, Regina Hall, Romany Malco, Mi...</td>\n",
       "      <td>4</td>\n",
       "      <td>16</td>\n",
       "      <td>NaN</td>\n",
       "      <td>NaN</td>\n",
       "    </tr>\n",
       "    <tr>\n",
       "      <th>3250</th>\n",
       "      <td>The Disappointments Room</td>\n",
       "      <td>/release/rl2186249729/?ref_=bo_yld_table_208</td>\n",
       "      <td>2016-09-09</td>\n",
       "      <td>1554</td>\n",
       "      <td>A mother and her young son release unimaginabl...</td>\n",
       "      <td>Relativity Media</td>\n",
       "      <td>1402823.0</td>\n",
       "      <td>15000000.0</td>\n",
       "      <td>R</td>\n",
       "      <td>91.0</td>\n",
       "      <td>...</td>\n",
       "      <td>Ryan Kavanaugh, Geyer Kosinski, Vincent Garcia...</td>\n",
       "      <td>Brian Tyler</td>\n",
       "      <td>Rogier Stoffers</td>\n",
       "      <td>Vince Filippone</td>\n",
       "      <td>Tom Southwell</td>\n",
       "      <td>Kate Beckinsale, Mel Raido, Duncan Joiner, Luc...</td>\n",
       "      <td>4</td>\n",
       "      <td>16</td>\n",
       "      <td>NaN</td>\n",
       "      <td>NaN</td>\n",
       "    </tr>\n",
       "  </tbody>\n",
       "</table>\n",
       "<p>3251 rows × 26 columns</p>\n",
       "</div>"
      ],
      "text/plain": [
       "                                title  \\\n",
       "0                            Sin City   \n",
       "1                           Insidious   \n",
       "2                                 Hop   \n",
       "3                         Source Code   \n",
       "4                       Woman in Gold   \n",
       "...                               ...   \n",
       "3246  Bucky Larson: Born to Be a Star   \n",
       "3247                            Sully   \n",
       "3248                    The Wild Life   \n",
       "3249            When the Bough Breaks   \n",
       "3250         The Disappointments Room   \n",
       "\n",
       "                                         link_stub    release theaters  \\\n",
       "0      /release/rl3027338753/?ref_=bo_yld_table_32 2005-04-01     3230   \n",
       "1      /release/rl3428550145/?ref_=bo_yld_table_63 2011-04-01     2419   \n",
       "2       /release/rl391874049/?ref_=bo_yld_table_25 2011-04-01     3616   \n",
       "3      /release/rl4033906177/?ref_=bo_yld_table_60 2011-04-01     2971   \n",
       "4       /release/rl981108225/?ref_=bo_yld_table_77 2015-04-01     2011   \n",
       "...                                            ...        ...      ...   \n",
       "3246  /release/rl2856748545/?ref_=bo_yld_table_191 2011-09-09     1500   \n",
       "3247   /release/rl3581707777/?ref_=bo_yld_table_24 2016-09-09     3955   \n",
       "3248  /release/rl1719633409/?ref_=bo_yld_table_157 2016-09-09     2493   \n",
       "3249   /release/rl3866658305/?ref_=bo_yld_table_91 2016-09-09     2246   \n",
       "3250  /release/rl2186249729/?ref_=bo_yld_table_208 2016-09-09     1554   \n",
       "\n",
       "                                                   desc  \\\n",
       "0     A movie that explores the dark and miserable t...   \n",
       "1     A family looks to prevent evil spirits from tr...   \n",
       "2     E.B., the Easter Bunny's teenage son, heads to...   \n",
       "3     A soldier wakes up in someone else's body and ...   \n",
       "4     Maria Altmann, an octogenarian Jewish refugee,...   \n",
       "...                                                 ...   \n",
       "3246  A kid from the Midwest moves out to Hollywood ...   \n",
       "3247  The story of Chesley \"Sully\" Sullenberger (Tom...   \n",
       "3248  A daring parrot recounts how Robinson Crusoe c...   \n",
       "3249  A surrogate mom for a couple becomes dangerous...   \n",
       "3250  A mother and her young son release unimaginabl...   \n",
       "\n",
       "                                  distr     opening      budget   mpaa  \\\n",
       "0                       Dimension Films  28100000.0  40000000.0      R   \n",
       "1                          FilmDistrict  13271464.0   1500000.0  PG-13   \n",
       "2                    Universal Pictures  37543710.0  63000000.0     PG   \n",
       "3                  Summit Entertainment  14812094.0  32000000.0  PG-13   \n",
       "4                 The Weinstein Company   2091551.0  11000000.0  PG-13   \n",
       "...                                 ...         ...         ...    ...   \n",
       "3246  Sony Pictures Entertainment (SPE)   1415023.0  10000000.0      R   \n",
       "3247                       Warner Bros.  35028301.0  60000000.0  PG-13   \n",
       "3248                          Lionsgate   3342696.0         NaN     PG   \n",
       "3249                        Screen Gems  14202323.0  10000000.0  PG-13   \n",
       "3250                   Relativity Media   1402823.0  15000000.0      R   \n",
       "\n",
       "      runtime  ...                                           Producer  \\\n",
       "0       124.0  ...                                  Elizabeth Avellan   \n",
       "1       103.0  ...            Jason Blum, Oren Peli, Steven Schneider   \n",
       "2        95.0  ...           Michele Imperato, Christopher Meledandri   \n",
       "3        93.0  ...       Mark Gordon, Philippe Rousselet, Jordan Wynn   \n",
       "4       109.0  ...                    David M. Thompson, Kris Thykier   \n",
       "...       ...  ...                                                ...   \n",
       "3246     97.0  ...  Allen Covert, David Dorfman, Jack Giarraputo, ...   \n",
       "3247     96.0  ...  Clint Eastwood, Frank Marshall, Tim Moore, All...   \n",
       "3248     91.0  ...  Gina Gallo, Mimi Maynard, Domonic Paris, Ben S...   \n",
       "3249    107.0  ...                        Michael Lynne, Robert Shaye   \n",
       "3250     91.0  ...  Ryan Kavanaugh, Geyer Kosinski, Vincent Garcia...   \n",
       "\n",
       "                                          Composer  \\\n",
       "0     John Debney, Graeme Revell, Robert Rodriguez   \n",
       "1                                   Joseph Bishara   \n",
       "2                             Christopher Lennertz   \n",
       "3                                      Chris Bacon   \n",
       "4                       Martin Phipps, Hans Zimmer   \n",
       "...                                            ...   \n",
       "3246                                 Waddy Wachtel   \n",
       "3247          Christian Jacob, Tierney Sutton Band   \n",
       "3248                                 Ramin Djawadi   \n",
       "3249                                 John Frizzell   \n",
       "3250                                   Brian Tyler   \n",
       "\n",
       "                        Cinematographer                           Editor  \\\n",
       "0                      Robert Rodriguez                 Robert Rodriguez   \n",
       "1     David M. Brewer, John R. Leonetti         Kirk M. Morri, James Wan   \n",
       "2                 Peter Lyons Collister  Peter S. Elliot, Gregory Perler   \n",
       "3                           Don Burgess                      Paul Hirsch   \n",
       "4                            Ross Emery                    Peter Lambert   \n",
       "...                                 ...                              ...   \n",
       "3246                    Michael Barrett                    Jason Gourson   \n",
       "3247                          Tom Stern                       Blu Murray   \n",
       "3248                                nan                Vincent Kesteloot   \n",
       "3249                      David Moxness                     Scott Powell   \n",
       "3250                    Rogier Stoffers                  Vince Filippone   \n",
       "\n",
       "     Production Designer                                             Actors  \\\n",
       "0                    nan  Mickey Rourke, Clive Owen, Bruce Willis, Jessi...   \n",
       "1             Aaron Sims  Patrick Wilson, Rose Byrne, Ty Simpkins, Lin S...   \n",
       "2        Richard Holland  Russell Brand, James Marsden, Elizabeth Perkin...   \n",
       "3           Barry Chusid  Jake Gyllenhaal, Michelle Monaghan, Vera Farmi...   \n",
       "4               Jim Clay  Helen Mirren, Ryan Reynolds, Daniel Brühl, Kat...   \n",
       "...                  ...                                                ...   \n",
       "3246         Dina Lipton  Nick Swardson, Don Johnson, Christina Ricci, S...   \n",
       "3247   James J. Murakami  Tom Hanks, Aaron Eckhart, Laura Linney, Valeri...   \n",
       "3248                 nan  Matthias Schweighöfer, Kaya Yanar, Ilka Bessin...   \n",
       "3249      Chris Cornwell  Morris Chestnut, Regina Hall, Romany Malco, Mi...   \n",
       "3250       Tom Southwell  Kate Beckinsale, Mel Raido, Duncan Joiner, Luc...   \n",
       "\n",
       "     holiday_distance year average_prior_writer_dom average_prior_writer_prior  \n",
       "0                  39    5             5.804076e+07                 39000000.0  \n",
       "1                  39   11             4.622577e+07                  8800000.0  \n",
       "2                  39   11             1.191796e+08                 46400000.0  \n",
       "3                  39   11                      NaN                        NaN  \n",
       "4                  44   15                      NaN                        NaN  \n",
       "...               ...  ...                      ...                        ...  \n",
       "3246                4   11             4.818780e+07                 30250000.0  \n",
       "3247                4   16             2.398495e+07                        0.0  \n",
       "3248                4   16             1.381698e+07                 25000000.0  \n",
       "3249                4   16                      NaN                        NaN  \n",
       "3250                4   16                      NaN                        NaN  \n",
       "\n",
       "[3251 rows x 26 columns]"
      ]
     },
     "execution_count": 212,
     "metadata": {},
     "output_type": "execute_result"
    }
   ],
   "source": [
    "pd.merge(movie_df, temp, on='title', )"
   ]
  },
  {
   "cell_type": "code",
   "execution_count": null,
   "metadata": {},
   "outputs": [],
   "source": []
  },
  {
   "cell_type": "code",
   "execution_count": 250,
   "metadata": {},
   "outputs": [
    {
     "data": {
      "text/plain": [
       "Index(['title', 'link_stub', 'release', 'theaters', 'desc', 'distr', 'opening',\n",
       "       'budget', 'mpaa', 'runtime', 'genres', 'gross_dom', 'gross_inter',\n",
       "       'gross_world', 'Director', 'Writer', 'Producer', 'Composer',\n",
       "       'Cinematographer', 'Editor', 'Production Designer', 'Actors',\n",
       "       'holiday_distance', 'year', 'average_prior_Director_dom',\n",
       "       'average_prior_Director_budget', 'average_prior_distr_dom',\n",
       "       'average_prior_distr_budget', 'average_prior_Composer_dom',\n",
       "       'average_prior_Composer_budget', 'average_prior_Cinematographer_dom',\n",
       "       'average_prior_Cinematographer_budget', 'average_prior_Editor_dom',\n",
       "       'average_prior_Editor_budget', 'average_prior_Production Designer_dom',\n",
       "       'average_prior_Production Designer_budget', 'average_prior_Writer_dom',\n",
       "       'average_prior_Writer_budget', 'average_prior_Producer_dom',\n",
       "       'average_prior_Producer_budget', 'average_prior_Actors_dom',\n",
       "       'average_prior_Actors_budget'],\n",
       "      dtype='object')"
      ]
     },
     "execution_count": 250,
     "metadata": {},
     "output_type": "execute_result"
    }
   ],
   "source": [
    "movie_df.columns"
   ]
  },
  {
   "cell_type": "code",
   "execution_count": null,
   "metadata": {},
   "outputs": [],
   "source": []
  }
 ],
 "metadata": {
  "kernelspec": {
   "display_name": "Python 3",
   "language": "python",
   "name": "python3"
  },
  "language_info": {
   "codemirror_mode": {
    "name": "ipython",
    "version": 3
   },
   "file_extension": ".py",
   "mimetype": "text/x-python",
   "name": "python",
   "nbconvert_exporter": "python",
   "pygments_lexer": "ipython3",
   "version": "3.8.3"
  }
 },
 "nbformat": 4,
 "nbformat_minor": 4
}
