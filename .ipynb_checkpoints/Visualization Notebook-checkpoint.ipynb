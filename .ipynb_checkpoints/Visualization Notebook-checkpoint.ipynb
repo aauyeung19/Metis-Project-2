{
 "cells": [
  {
   "cell_type": "code",
   "execution_count": 2,
   "metadata": {},
   "outputs": [],
   "source": [
    "import pickle\n",
    "import pandas as pd\n",
    "import numpy as np\n",
    "import datetime as dt\n",
    "import re\n",
    "import seaborn as sns\n",
    "import matplotlib.pyplot as plt"
   ]
  },
  {
   "cell_type": "code",
   "execution_count": 8,
   "metadata": {},
   "outputs": [],
   "source": [
    "movie_stubs = pickle.load(open('movie_stubs.pickle', 'rb'))"
   ]
  },
  {
   "cell_type": "code",
   "execution_count": 4,
   "metadata": {},
   "outputs": [
    {
     "name": "stdout",
     "output_type": "stream",
     "text": [
      "Data_Scraping_Prototype.ipynb           cast_info_list_start_to_1500.pickle\r\n",
      "Data_Scraping_Prototype_Selenium.ipynb  clean_movie_df.pickle\r\n",
      "Feature Engineering.ipynb               cleaning_prototype.ipynb\r\n",
      "README.md                               geckodriver.log\r\n",
      "Regression prototype-V2.ipynb           movie_info.pickle\r\n",
      "Regression prototype.ipynb              movie_stubs.pickle\r\n",
      "Untitled.ipynb                          processed_movie_df.pickle\r\n",
      "cast_info.pickle                        usholidays.csv\r\n",
      "cast_info_list1500_to_end.pickle\r\n"
     ]
    }
   ],
   "source": [
    "ls"
   ]
  },
  {
   "cell_type": "code",
   "execution_count": 5,
   "metadata": {},
   "outputs": [
    {
     "data": {
      "text/html": [
       "<div>\n",
       "<style scoped>\n",
       "    .dataframe tbody tr th:only-of-type {\n",
       "        vertical-align: middle;\n",
       "    }\n",
       "\n",
       "    .dataframe tbody tr th {\n",
       "        vertical-align: top;\n",
       "    }\n",
       "\n",
       "    .dataframe thead th {\n",
       "        text-align: right;\n",
       "    }\n",
       "</style>\n",
       "<table border=\"1\" class=\"dataframe\">\n",
       "  <thead>\n",
       "    <tr style=\"text-align: right;\">\n",
       "      <th></th>\n",
       "      <th>link_stub</th>\n",
       "      <th>release</th>\n",
       "      <th>theaters</th>\n",
       "    </tr>\n",
       "  </thead>\n",
       "  <tbody>\n",
       "    <tr>\n",
       "      <th>Avengers: Endgame</th>\n",
       "      <td>/release/rl3059975681/?ref_=bo_yld_table_1</td>\n",
       "      <td>Apr 26, 2019</td>\n",
       "      <td>4662</td>\n",
       "    </tr>\n",
       "    <tr>\n",
       "      <th>The Lion King</th>\n",
       "      <td>/release/rl3321923073/?ref_=bo_yld_table_2</td>\n",
       "      <td>Jul 19, 2019</td>\n",
       "      <td>4802</td>\n",
       "    </tr>\n",
       "    <tr>\n",
       "      <th>Toy Story 4</th>\n",
       "      <td>/release/rl3798500865/?ref_=bo_yld_table_3</td>\n",
       "      <td>Jun 21, 2019</td>\n",
       "      <td>4575</td>\n",
       "    </tr>\n",
       "    <tr>\n",
       "      <th>Frozen II</th>\n",
       "      <td>/release/rl2424210945/?ref_=bo_yld_table_4</td>\n",
       "      <td>Nov 22, 2019</td>\n",
       "      <td>4440</td>\n",
       "    </tr>\n",
       "    <tr>\n",
       "      <th>Captain Marvel</th>\n",
       "      <td>/release/rl3009644033/?ref_=bo_yld_table_5</td>\n",
       "      <td>Mar 8, 2019</td>\n",
       "      <td>4310</td>\n",
       "    </tr>\n",
       "    <tr>\n",
       "      <th>...</th>\n",
       "      <td>...</td>\n",
       "      <td>...</td>\n",
       "      <td>...</td>\n",
       "    </tr>\n",
       "    <tr>\n",
       "      <th>Tarzan</th>\n",
       "      <td>/release/rl2742388225/?ref_=bo_yld_table_337</td>\n",
       "      <td>Jun 16, 2000</td>\n",
       "      <td>3131</td>\n",
       "    </tr>\n",
       "    <tr>\n",
       "      <th>Music of the Heart</th>\n",
       "      <td>/release/rl761562625/?ref_=bo_yld_table_344</td>\n",
       "      <td>Oct 29, 2000</td>\n",
       "      <td>1353</td>\n",
       "    </tr>\n",
       "    <tr>\n",
       "      <th>The Messenger: The Story of Joan of Arc</th>\n",
       "      <td>/release/rl1986168321/?ref_=bo_yld_table_350</td>\n",
       "      <td>Nov 12, 2000</td>\n",
       "      <td>2147</td>\n",
       "    </tr>\n",
       "    <tr>\n",
       "      <th>Snatch</th>\n",
       "      <td>/release/rl141592065/?ref_=bo_yld_table_401</td>\n",
       "      <td>Dec 8, 2000</td>\n",
       "      <td>1444</td>\n",
       "    </tr>\n",
       "    <tr>\n",
       "      <th>The Gift</th>\n",
       "      <td>/release/rl945063425/?ref_=bo_yld_table_411</td>\n",
       "      <td>Dec 22, 2000</td>\n",
       "      <td>807</td>\n",
       "    </tr>\n",
       "  </tbody>\n",
       "</table>\n",
       "<p>4279 rows × 3 columns</p>\n",
       "</div>"
      ],
      "text/plain": [
       "                                                                            link_stub  \\\n",
       "Avengers: Endgame                          /release/rl3059975681/?ref_=bo_yld_table_1   \n",
       "The Lion King                              /release/rl3321923073/?ref_=bo_yld_table_2   \n",
       "Toy Story 4                                /release/rl3798500865/?ref_=bo_yld_table_3   \n",
       "Frozen II                                  /release/rl2424210945/?ref_=bo_yld_table_4   \n",
       "Captain Marvel                             /release/rl3009644033/?ref_=bo_yld_table_5   \n",
       "...                                                                               ...   \n",
       "Tarzan                                   /release/rl2742388225/?ref_=bo_yld_table_337   \n",
       "Music of the Heart                        /release/rl761562625/?ref_=bo_yld_table_344   \n",
       "The Messenger: The Story of Joan of Arc  /release/rl1986168321/?ref_=bo_yld_table_350   \n",
       "Snatch                                    /release/rl141592065/?ref_=bo_yld_table_401   \n",
       "The Gift                                  /release/rl945063425/?ref_=bo_yld_table_411   \n",
       "\n",
       "                                              release theaters  \n",
       "Avengers: Endgame                        Apr 26, 2019     4662  \n",
       "The Lion King                            Jul 19, 2019     4802  \n",
       "Toy Story 4                              Jun 21, 2019     4575  \n",
       "Frozen II                                Nov 22, 2019     4440  \n",
       "Captain Marvel                            Mar 8, 2019     4310  \n",
       "...                                               ...      ...  \n",
       "Tarzan                                   Jun 16, 2000     3131  \n",
       "Music of the Heart                       Oct 29, 2000     1353  \n",
       "The Messenger: The Story of Joan of Arc  Nov 12, 2000     2147  \n",
       "Snatch                                    Dec 8, 2000     1444  \n",
       "The Gift                                 Dec 22, 2000      807  \n",
       "\n",
       "[4279 rows x 3 columns]"
      ]
     },
     "execution_count": 5,
     "metadata": {},
     "output_type": "execute_result"
    }
   ],
   "source": [
    "movie_stubs"
   ]
  },
  {
   "cell_type": "code",
   "execution_count": 7,
   "metadata": {},
   "outputs": [],
   "source": [
    "movie_info = pickle.load(open('movie_info.pickle', 'rb'))"
   ]
  },
  {
   "cell_type": "code",
   "execution_count": 10,
   "metadata": {},
   "outputs": [
    {
     "data": {
      "text/plain": [
       "4264"
      ]
     },
     "execution_count": 10,
     "metadata": {},
     "output_type": "execute_result"
    }
   ],
   "source": [
    "len(movie_info)"
   ]
  },
  {
   "cell_type": "code",
   "execution_count": 13,
   "metadata": {},
   "outputs": [],
   "source": [
    "test = ['this is a test']"
   ]
  },
  {
   "cell_type": "code",
   "execution_count": null,
   "metadata": {},
   "outputs": [],
   "source": []
  }
 ],
 "metadata": {
  "kernelspec": {
   "display_name": "Python 3",
   "language": "python",
   "name": "python3"
  },
  "language_info": {
   "codemirror_mode": {
    "name": "ipython",
    "version": 3
   },
   "file_extension": ".py",
   "mimetype": "text/x-python",
   "name": "python",
   "nbconvert_exporter": "python",
   "pygments_lexer": "ipython3",
   "version": "3.8.3"
  }
 },
 "nbformat": 4,
 "nbformat_minor": 4
}
