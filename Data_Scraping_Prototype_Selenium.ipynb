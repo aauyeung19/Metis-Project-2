{
 "cells": [
  {
   "cell_type": "code",
   "execution_count": 96,
   "metadata": {},
   "outputs": [],
   "source": [
    "#!/usr/bin/env python\n",
    "\n",
    "from selenium import webdriver\n",
    "import pandas as pd\n",
    "import re\n",
    "from bs4 import BeautifulSoup\n",
    "from collections import defaultdict\n",
    "import time\n",
    "import random"
   ]
  },
  {
   "cell_type": "code",
   "execution_count": 3,
   "metadata": {},
   "outputs": [
    {
     "name": "stdout",
     "output_type": "stream",
     "text": [
      "cleaning_prototype.ipynb                geckodriver.log\r\n",
      "clean_movie_df.pickle                   movie_info.pickle\r\n",
      "Data_Scraping_Prototype.ipynb           movie_stubs.pickle\r\n",
      "Data_Scraping_Prototype_Selenium.ipynb  README.md\r\n"
     ]
    }
   ],
   "source": [
    "ls"
   ]
  },
  {
   "cell_type": "code",
   "execution_count": 1,
   "metadata": {},
   "outputs": [],
   "source": [
    "import pickle \n",
    "movie_df = pickle.load(open('clean_movie_df.pickle', 'rb'))"
   ]
  },
  {
   "cell_type": "code",
   "execution_count": 99,
   "metadata": {},
   "outputs": [
    {
     "data": {
      "text/plain": [
       "10 Cloverfield Lane            /release/rl1329956353/?ref_=bo_yld_table_44\n",
       "10,000 BC                       /release/rl977372673/?ref_=bo_yld_table_26\n",
       "102 Dalmatians                 /release/rl927041025/?ref_=bo_yld_table_137\n",
       "102 Dalmatians                  /release/rl927041025/?ref_=bo_yld_table_44\n",
       "12 Rounds                      /release/rl440501761/?ref_=bo_yld_table_147\n",
       "                                                  ...                     \n",
       "xXx                            /release/rl1450870273/?ref_=bo_yld_table_15\n",
       "xXx: Return of Xander Cage     /release/rl1904182785/?ref_=bo_yld_table_63\n",
       "xXx: State of the Union        /release/rl1467647489/?ref_=bo_yld_table_96\n",
       "Æon Flux                      /release/rl1212188161/?ref_=bo_yld_table_270\n",
       "Æon Flux                      /release/rl1212188161/?ref_=bo_yld_table_102\n",
       "Name: link_stub, Length: 4195, dtype: object"
      ]
     },
     "execution_count": 99,
     "metadata": {},
     "output_type": "execute_result"
    }
   ],
   "source": [
    "movie_df.link_stub"
   ]
  },
  {
   "cell_type": "code",
   "execution_count": 121,
   "metadata": {},
   "outputs": [],
   "source": [
    "def get_cast_info(link):\n",
    "    \n",
    "    base_url = \"https://www.boxofficemojo.com\"\n",
    "    url = base_url+link\n",
    "    \n",
    "    browser = webdriver.Firefox()\n",
    "    browser.get(url)\n",
    "    time.sleep(0.5*random.random())\n",
    "    browser.find_element_by_link_text('Title Summary').click()\n",
    "    browser.find_element_by_link_text('Cast and Crew').click()\n",
    "\n",
    "    soup = BeautifulSoup(browser.page_source)\n",
    "               \n",
    "    crew_dict = defaultdict(list)\n",
    "    \n",
    "    #find Table Element \n",
    "    tables = soup.find_all('table')\n",
    "\n",
    "    crew_rows = tables[0].find_all('tr')\n",
    "    for row in crew_rows[1:]:\n",
    "        curr_row = row.find_all('td')\n",
    "        role = curr_row[1].text.rstrip()\n",
    "        name = curr_row[0].text.rstrip()\n",
    "        #add to crew dictionairy\n",
    "        crew_dict[role].append(name)\n",
    "\n",
    "\n",
    "    actor_rows = tables[1].find_all('tr')\n",
    "    for row in actor_rows[1:]:\n",
    "        curr_row = row.find_all('td')\n",
    "        name = curr_row[0].text.rstrip()\n",
    "        crew_dict['Actors'].append(name)\n",
    "\n",
    "    cast_dict = {}\n",
    "    title = soup.find('h1').text\n",
    "    cast_dict['title'] = title\n",
    "    \n",
    "    for key in crew_dict:\n",
    "        cast_dict[key] = ', '.join(crew_dict[key])\n",
    "        \n",
    "    browser.quit()\n",
    "    return cast_dict\n",
    "    "
   ]
  },
  {
   "cell_type": "code",
   "execution_count": null,
   "metadata": {},
   "outputs": [
    {
     "name": "stdout",
     "output_type": "stream",
     "text": [
      "1151 rows completed\r"
     ]
    }
   ],
   "source": [
    "c = 0\n",
    "for link in movie_df.link_stub[203:]:\n",
    "    try:\n",
    "        cast_info_list.append(get_cast_info(link))\n",
    "        browser.quit()\n",
    "    except:\n",
    "        c+=1\n",
    "        print('{} rows missed', end=\"\\r\", flush=True)\n",
    "    print('{} rows completed'.format(len(cast_info_list)), end='\\r', flush=True)"
   ]
  },
  {
   "cell_type": "code",
   "execution_count": null,
   "metadata": {},
   "outputs": [],
   "source": [
    "cast_info_list"
   ]
  },
  {
   "cell_type": "code",
   "execution_count": 125,
   "metadata": {},
   "outputs": [],
   "source": [
    "scraped_to_203 = cast_info_list"
   ]
  },
  {
   "cell_type": "code",
   "execution_count": 85,
   "metadata": {},
   "outputs": [],
   "source": [
    "tables = soup.find_all('table')\n",
    "\n",
    "crew_rows = tables[0].find_all('tr')\n",
    "\n",
    "crew_dict = defaultdict(list)\n",
    "\n",
    "for row in crew_rows[1:]:\n",
    "    curr_row = row.find_all('td')\n",
    "    role = curr_row[1].text.rstrip()\n",
    "    name = curr_row[0].text.rstrip()\n",
    "    #add to crew dictionairy\n",
    "    crew_dict[role].append(name)"
   ]
  },
  {
   "cell_type": "code",
   "execution_count": 97,
   "metadata": {},
   "outputs": [
    {
     "data": {
      "text/plain": [
       "0.4280068853692074"
      ]
     },
     "execution_count": 97,
     "metadata": {},
     "output_type": "execute_result"
    }
   ],
   "source": [
    "random.random()"
   ]
  },
  {
   "cell_type": "code",
   "execution_count": 91,
   "metadata": {},
   "outputs": [
    {
     "data": {
      "text/plain": [
       "defaultdict(list,\n",
       "            {'Director': 'D.J. Caruso',\n",
       "             'Writer': 'Rich Wilkes, F. Scott Frazier',\n",
       "             'Producer': 'Vin Diesel, Jeff Kirschenbaum, Joe Roth, Samantha Vincent',\n",
       "             'Composer': 'Robert Lydecker, Brian Tyler',\n",
       "             'Cinematographer': 'Russell Carpenter',\n",
       "             'Editor': 'Vince Filippone, Jim Page',\n",
       "             'Production Designer': 'Jon Billington'})"
      ]
     },
     "execution_count": 91,
     "metadata": {},
     "output_type": "execute_result"
    }
   ],
   "source": [
    "crew_dict"
   ]
  },
  {
   "cell_type": "code",
   "execution_count": 54,
   "metadata": {},
   "outputs": [],
   "source": [
    "soup = BeautifulSoup(browser.page_source)"
   ]
  },
  {
   "cell_type": "code",
   "execution_count": 100,
   "metadata": {},
   "outputs": [
    {
     "data": {
      "text/plain": [
       "<title dir=\"ltr\">xXx: Return of Xander Cage - Box Office Mojo</title>"
      ]
     },
     "execution_count": 100,
     "metadata": {},
     "output_type": "execute_result"
    }
   ],
   "source": [
    "soup.find('title')"
   ]
  },
  {
   "cell_type": "code",
   "execution_count": 92,
   "metadata": {},
   "outputs": [],
   "source": [
    "rows = tables[1].find_all('tr')"
   ]
  },
  {
   "cell_type": "code",
   "execution_count": 93,
   "metadata": {},
   "outputs": [
    {
     "data": {
      "text/plain": [
       "'Donnie Yen'"
      ]
     },
     "execution_count": 93,
     "metadata": {},
     "output_type": "execute_result"
    }
   ],
   "source": [
    "rows[2].find_all('td')[0].text.rstrip()"
   ]
  },
  {
   "cell_type": "code",
   "execution_count": 94,
   "metadata": {},
   "outputs": [
    {
     "data": {
      "text/plain": [
       "'XiangSee more'"
      ]
     },
     "execution_count": 94,
     "metadata": {},
     "output_type": "execute_result"
    }
   ],
   "source": [
    "rows[2].find_all('td')[1].text.rstrip()"
   ]
  },
  {
   "cell_type": "code",
   "execution_count": 65,
   "metadata": {},
   "outputs": [],
   "source": [
    "from collections import defaultdict\n",
    "\n",
    "test = defaultdict(list)"
   ]
  },
  {
   "cell_type": "code",
   "execution_count": 67,
   "metadata": {},
   "outputs": [],
   "source": [
    "test['Director'].append('DJ')"
   ]
  },
  {
   "cell_type": "code",
   "execution_count": 68,
   "metadata": {},
   "outputs": [],
   "source": [
    "test['Director'].append('The Rock')"
   ]
  },
  {
   "cell_type": "code",
   "execution_count": 71,
   "metadata": {},
   "outputs": [
    {
     "data": {
      "text/plain": [
       "'The Rock, DJ, The Rock'"
      ]
     },
     "execution_count": 71,
     "metadata": {},
     "output_type": "execute_result"
    }
   ],
   "source": [
    "', '.join(test['Director'])"
   ]
  },
  {
   "cell_type": "code",
   "execution_count": null,
   "metadata": {},
   "outputs": [],
   "source": [
    "def parse_crew(role, soup):\n",
    "    \"\"\"\n",
    "    Looks in crew table for role and gets name\n",
    "    inputs:\n",
    "    role : (str) string of role Case Sensitive\n",
    "    soup : Beautiful Soup object\n",
    "    \n",
    "    Returns: name (str) of person in role\n",
    "    \"\"\"\n",
    "    "
   ]
  },
  {
   "cell_type": "code",
   "execution_count": 40,
   "metadata": {},
   "outputs": [
    {
     "data": {
      "text/plain": [
       "<table class=\"a-bordered a-horizontal-stripes a-spacing-base a-size-base-plus\" id=\"principalCast\"><tbody><tr><th class=\"a-span6\">Actor</th><th class=\"a-span6\">Character</th></tr><tr><td><a class=\"a-link-normal\" href=\"https://pro.imdb.com/name/nm0000422/?ref_=mojo_tt_ct_1&amp;rf=mojo_tt_ct_1\" rel=\"noopener\" target=\"_blank\">John Goodman<svg class=\"mojo-new-window-svg\" viewbox=\"0 0 32 32\" xmlns=\"http://www.w3.org/2000/svg\">\n",
       "<path d=\"M24,15.57251l3,3V23.5A3.50424,3.50424,0,0,1,23.5,27H8.5A3.50424,3.50424,0,0,1,5,23.5V8.5A3.50424,3.50424,0,0,1,8.5,5h4.92755l3,3H8.5a.50641.50641,0,0,0-.5.5v15a.50641.50641,0,0,0,.5.5h15a.50641.50641,0,0,0,.5-.5ZM19.81952,8.56372,12.8844,17.75a.49989.49989,0,0,0,.04547.65479l.66534.66528a.49983.49983,0,0,0,.65479.04553l9.18628-6.93518,2.12579,2.12585a.5.5,0,0,0,.84741-.27526l1.48273-9.35108a.50006.50006,0,0,0-.57214-.57214L17.969,5.59058a.5.5,0,0,0-.27526.84741Z\"></path>\n",
       "</svg></a></td><td><div aria-live=\"polite\" class=\"a-expander-collapsed-height a-row a-expander-container a-expander-partial-collapse-container\" data-a-expander-collapsed-height=\"87\" data-a-expander-name=\"character_expander\" style=\"max-height:87px\"><div aria-expanded=\"false\" class=\"a-expander-content a-expander-partial-collapse-content\">Howard</div><div class=\"a-expander-header a-expander-partial-collapse-header a-color-alternate-background\" style=\"opacity: 0; display: none;\"><a class=\"a-declarative\" data-a-expander-toggle='{\"allowLinkDefault\":true, \"expand_prompt\":\"See more\", \"collapse_prompt\":\"See fewer\"}' data-action=\"a-expander-toggle\" href=\"javascript:void(0)\"><i class=\"a-icon a-icon-extender-expand\"></i><span class=\"a-expander-prompt\">See more</span></a></div></div></td></tr><tr><td><a class=\"a-link-normal\" href=\"https://pro.imdb.com/name/nm0935541/?ref_=mojo_tt_ct_2&amp;rf=mojo_tt_ct_2\" rel=\"noopener\" target=\"_blank\">Mary Elizabeth Winstead<svg class=\"mojo-new-window-svg\" viewbox=\"0 0 32 32\" xmlns=\"http://www.w3.org/2000/svg\">\n",
       "<path d=\"M24,15.57251l3,3V23.5A3.50424,3.50424,0,0,1,23.5,27H8.5A3.50424,3.50424,0,0,1,5,23.5V8.5A3.50424,3.50424,0,0,1,8.5,5h4.92755l3,3H8.5a.50641.50641,0,0,0-.5.5v15a.50641.50641,0,0,0,.5.5h15a.50641.50641,0,0,0,.5-.5ZM19.81952,8.56372,12.8844,17.75a.49989.49989,0,0,0,.04547.65479l.66534.66528a.49983.49983,0,0,0,.65479.04553l9.18628-6.93518,2.12579,2.12585a.5.5,0,0,0,.84741-.27526l1.48273-9.35108a.50006.50006,0,0,0-.57214-.57214L17.969,5.59058a.5.5,0,0,0-.27526.84741Z\"></path>\n",
       "</svg></a></td><td><div aria-live=\"polite\" class=\"a-expander-collapsed-height a-row a-expander-container a-expander-partial-collapse-container\" data-a-expander-collapsed-height=\"87\" data-a-expander-name=\"character_expander\" style=\"max-height:87px\"><div aria-expanded=\"false\" class=\"a-expander-content a-expander-partial-collapse-content\">Michelle</div><div class=\"a-expander-header a-expander-partial-collapse-header\" style=\"opacity: 0; display: none;\"><a class=\"a-declarative\" data-a-expander-toggle='{\"allowLinkDefault\":true, \"expand_prompt\":\"See more\", \"collapse_prompt\":\"See fewer\"}' data-action=\"a-expander-toggle\" href=\"javascript:void(0)\"><i class=\"a-icon a-icon-extender-expand\"></i><span class=\"a-expander-prompt\">See more</span></a></div></div></td></tr><tr><td><a class=\"a-link-normal\" href=\"https://pro.imdb.com/name/nm0302330/?ref_=mojo_tt_ct_3&amp;rf=mojo_tt_ct_3\" rel=\"noopener\" target=\"_blank\">John Gallagher Jr.<svg class=\"mojo-new-window-svg\" viewbox=\"0 0 32 32\" xmlns=\"http://www.w3.org/2000/svg\">\n",
       "<path d=\"M24,15.57251l3,3V23.5A3.50424,3.50424,0,0,1,23.5,27H8.5A3.50424,3.50424,0,0,1,5,23.5V8.5A3.50424,3.50424,0,0,1,8.5,5h4.92755l3,3H8.5a.50641.50641,0,0,0-.5.5v15a.50641.50641,0,0,0,.5.5h15a.50641.50641,0,0,0,.5-.5ZM19.81952,8.56372,12.8844,17.75a.49989.49989,0,0,0,.04547.65479l.66534.66528a.49983.49983,0,0,0,.65479.04553l9.18628-6.93518,2.12579,2.12585a.5.5,0,0,0,.84741-.27526l1.48273-9.35108a.50006.50006,0,0,0-.57214-.57214L17.969,5.59058a.5.5,0,0,0-.27526.84741Z\"></path>\n",
       "</svg></a></td><td><div aria-live=\"polite\" class=\"a-expander-collapsed-height a-row a-expander-container a-expander-partial-collapse-container\" data-a-expander-collapsed-height=\"87\" data-a-expander-name=\"character_expander\" style=\"max-height:87px\"><div aria-expanded=\"false\" class=\"a-expander-content a-expander-partial-collapse-content\">Emmett</div><div class=\"a-expander-header a-expander-partial-collapse-header a-color-alternate-background\" style=\"opacity: 0; display: none;\"><a class=\"a-declarative\" data-a-expander-toggle='{\"allowLinkDefault\":true, \"expand_prompt\":\"See more\", \"collapse_prompt\":\"See fewer\"}' data-action=\"a-expander-toggle\" href=\"javascript:void(0)\"><i class=\"a-icon a-icon-extender-expand\"></i><span class=\"a-expander-prompt\">See more</span></a></div></div></td></tr><tr><td><a class=\"a-link-normal\" href=\"https://pro.imdb.com/name/nm0341174/?ref_=mojo_tt_ct_4&amp;rf=mojo_tt_ct_4\" rel=\"noopener\" target=\"_blank\">Douglas M. Griffin<svg class=\"mojo-new-window-svg\" viewbox=\"0 0 32 32\" xmlns=\"http://www.w3.org/2000/svg\">\n",
       "<path d=\"M24,15.57251l3,3V23.5A3.50424,3.50424,0,0,1,23.5,27H8.5A3.50424,3.50424,0,0,1,5,23.5V8.5A3.50424,3.50424,0,0,1,8.5,5h4.92755l3,3H8.5a.50641.50641,0,0,0-.5.5v15a.50641.50641,0,0,0,.5.5h15a.50641.50641,0,0,0,.5-.5ZM19.81952,8.56372,12.8844,17.75a.49989.49989,0,0,0,.04547.65479l.66534.66528a.49983.49983,0,0,0,.65479.04553l9.18628-6.93518,2.12579,2.12585a.5.5,0,0,0,.84741-.27526l1.48273-9.35108a.50006.50006,0,0,0-.57214-.57214L17.969,5.59058a.5.5,0,0,0-.27526.84741Z\"></path>\n",
       "</svg></a></td><td><div aria-live=\"polite\" class=\"a-expander-collapsed-height a-row a-expander-container a-expander-partial-collapse-container\" data-a-expander-collapsed-height=\"87\" data-a-expander-name=\"character_expander\" style=\"max-height:87px\"><div aria-expanded=\"false\" class=\"a-expander-content a-expander-partial-collapse-content\">Driver</div><div class=\"a-expander-header a-expander-partial-collapse-header\" style=\"opacity: 0; display: none;\"><a class=\"a-declarative\" data-a-expander-toggle='{\"allowLinkDefault\":true, \"expand_prompt\":\"See more\", \"collapse_prompt\":\"See fewer\"}' data-action=\"a-expander-toggle\" href=\"javascript:void(0)\"><i class=\"a-icon a-icon-extender-expand\"></i><span class=\"a-expander-prompt\">See more</span></a></div></div></td></tr></tbody></table>"
      ]
     },
     "execution_count": 40,
     "metadata": {},
     "output_type": "execute_result"
    }
   ],
   "source": [
    "soup.find_all('table')[1]"
   ]
  },
  {
   "cell_type": "code",
   "execution_count": 44,
   "metadata": {},
   "outputs": [],
   "source": [
    "#needs to click title summ"
   ]
  },
  {
   "cell_type": "code",
   "execution_count": null,
   "metadata": {},
   "outputs": [],
   "source": []
  }
 ],
 "metadata": {
  "kernelspec": {
   "display_name": "Python 3",
   "language": "python",
   "name": "python3"
  },
  "language_info": {
   "codemirror_mode": {
    "name": "ipython",
    "version": 3
   },
   "file_extension": ".py",
   "mimetype": "text/x-python",
   "name": "python",
   "nbconvert_exporter": "python",
   "pygments_lexer": "ipython3",
   "version": "3.8.3"
  }
 },
 "nbformat": 4,
 "nbformat_minor": 4
}
