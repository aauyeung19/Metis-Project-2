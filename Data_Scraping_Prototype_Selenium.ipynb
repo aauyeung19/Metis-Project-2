{
 "cells": [
  {
   "cell_type": "code",
   "execution_count": 1,
   "metadata": {},
   "outputs": [],
   "source": [
    "#!/usr/bin/env python\n",
    "\n",
    "from selenium import webdriver\n",
    "import pandas as pd\n",
    "import re\n",
    "from bs4 import BeautifulSoup\n",
    "from collections import defaultdict\n",
    "import time\n",
    "import random"
   ]
  },
  {
   "cell_type": "code",
   "execution_count": 3,
   "metadata": {},
   "outputs": [
    {
     "name": "stdout",
     "output_type": "stream",
     "text": [
      "cleaning_prototype.ipynb                geckodriver.log\r\n",
      "clean_movie_df.pickle                   movie_info.pickle\r\n",
      "Data_Scraping_Prototype.ipynb           movie_stubs.pickle\r\n",
      "Data_Scraping_Prototype_Selenium.ipynb  README.md\r\n"
     ]
    }
   ],
   "source": [
    "ls"
   ]
  },
  {
   "cell_type": "code",
   "execution_count": 2,
   "metadata": {},
   "outputs": [],
   "source": [
    "import pickle \n",
    "movie_df = pickle.load(open('clean_movie_df.pickle', 'rb'))"
   ]
  },
  {
   "cell_type": "code",
   "execution_count": 99,
   "metadata": {},
   "outputs": [
    {
     "data": {
      "text/plain": [
       "10 Cloverfield Lane            /release/rl1329956353/?ref_=bo_yld_table_44\n",
       "10,000 BC                       /release/rl977372673/?ref_=bo_yld_table_26\n",
       "102 Dalmatians                 /release/rl927041025/?ref_=bo_yld_table_137\n",
       "102 Dalmatians                  /release/rl927041025/?ref_=bo_yld_table_44\n",
       "12 Rounds                      /release/rl440501761/?ref_=bo_yld_table_147\n",
       "                                                  ...                     \n",
       "xXx                            /release/rl1450870273/?ref_=bo_yld_table_15\n",
       "xXx: Return of Xander Cage     /release/rl1904182785/?ref_=bo_yld_table_63\n",
       "xXx: State of the Union        /release/rl1467647489/?ref_=bo_yld_table_96\n",
       "Æon Flux                      /release/rl1212188161/?ref_=bo_yld_table_270\n",
       "Æon Flux                      /release/rl1212188161/?ref_=bo_yld_table_102\n",
       "Name: link_stub, Length: 4195, dtype: object"
      ]
     },
     "execution_count": 99,
     "metadata": {},
     "output_type": "execute_result"
    }
   ],
   "source": [
    "movie_df.link_stub"
   ]
  },
  {
   "cell_type": "code",
   "execution_count": 24,
   "metadata": {},
   "outputs": [],
   "source": [
    "def get_cast_info(link):\n",
    "    \n",
    "    base_url = \"https://www.boxofficemojo.com\"\n",
    "    url = base_url+link\n",
    "    #linux browser = webdriver.Firefox()\n",
    "    browser = webdriver.Chrome(executable_path='/Applications/chromedriver')\n",
    "    browser.get(url)\n",
    "    time.sleep(0.5*random.random())\n",
    "    browser.find_element_by_link_text('Title Summary').click()\n",
    "    browser.find_element_by_link_text('Cast and Crew').click()\n",
    "\n",
    "    soup = BeautifulSoup(browser.page_source)\n",
    "               \n",
    "    crew_dict = defaultdict(list)\n",
    "    \n",
    "    #find Table Element \n",
    "    tables = soup.find_all('table')\n",
    "\n",
    "    crew_rows = tables[0].find_all('tr')\n",
    "    for row in crew_rows[1:]:\n",
    "        curr_row = row.find_all('td')\n",
    "        role = curr_row[1].text.rstrip()\n",
    "        name = curr_row[0].text.rstrip()\n",
    "        #add to crew dictionairy\n",
    "        crew_dict[role].append(name)\n",
    "\n",
    "\n",
    "    actor_rows = tables[1].find_all('tr')\n",
    "    for row in actor_rows[1:]:\n",
    "        curr_row = row.find_all('td')\n",
    "        name = curr_row[0].text.rstrip()\n",
    "        crew_dict['Actors'].append(name)\n",
    "\n",
    "    cast_dict = {}\n",
    "    title = soup.find('h1').text\n",
    "    cast_dict['title'] = title\n",
    "    \n",
    "    for key in crew_dict:\n",
    "        cast_dict[key] = ', '.join(crew_dict[key])\n",
    "        \n",
    "    browser.quit()\n",
    "    return cast_dict\n",
    "    "
   ]
  },
  {
   "cell_type": "code",
   "execution_count": 29,
   "metadata": {},
   "outputs": [],
   "source": [
    "cast_info_list = []"
   ]
  },
  {
   "cell_type": "code",
   "execution_count": 30,
   "metadata": {},
   "outputs": [
    {
     "name": "stdout",
     "output_type": "stream",
     "text": [
      "1499 rows completed\r"
     ]
    }
   ],
   "source": [
    "c = 0\n",
    "for link in movie_df.link_stub[:1500]:\n",
    "    try:\n",
    "        cast_info_list.append(get_cast_info(link))\n",
    "        browser.quit()\n",
    "    except:\n",
    "        c+=1\n",
    "        print('{} rows missed', end=\"\\r\", flush=True)\n",
    "    print('{} rows completed'.format(len(cast_info_list)), end='\\r', flush=True)"
   ]
  },
  {
   "cell_type": "code",
   "execution_count": 31,
   "metadata": {},
   "outputs": [],
   "source": [
    "import pickle\n",
    "with open('cast_info_list_start_to_1500.pickle', 'wb') as to_write:\n",
    "    pickle.dump(cast_info_list, to_write)"
   ]
  },
  {
   "cell_type": "code",
   "execution_count": 32,
   "metadata": {},
   "outputs": [
    {
     "data": {
      "text/plain": [
       "1499"
      ]
     },
     "execution_count": 32,
     "metadata": {},
     "output_type": "execute_result"
    }
   ],
   "source": [
    "len(cast_info_list)"
   ]
  },
  {
   "cell_type": "code",
   "execution_count": 33,
   "metadata": {},
   "outputs": [
    {
     "name": "stdout",
     "output_type": "stream",
     "text": [
      "Data_Scraping_Prototype.ipynb           cleaning_prototype.ipynb\r\n",
      "Data_Scraping_Prototype_Selenium.ipynb  geckodriver.log\r\n",
      "Feature Engineering.ipynb               movie_info.pickle\r\n",
      "README.md                               movie_stubs.pickle\r\n",
      "cast_info_list1500_to_end.pickle        processed_movie_df.pickle\r\n",
      "cast_info_list_start_to_1500.pickle     usholidays.csv\r\n",
      "clean_movie_df.pickle\r\n"
     ]
    }
   ],
   "source": [
    "ls"
   ]
  },
  {
   "cell_type": "code",
   "execution_count": 34,
   "metadata": {},
   "outputs": [],
   "source": [
    "end = pickle.load(open('cast_info_list1500_to_end.pickle', 'rb'))"
   ]
  },
  {
   "cell_type": "code",
   "execution_count": 35,
   "metadata": {},
   "outputs": [
    {
     "data": {
      "text/plain": [
       "992"
      ]
     },
     "execution_count": 35,
     "metadata": {},
     "output_type": "execute_result"
    }
   ],
   "source": [
    "len(end)"
   ]
  },
  {
   "cell_type": "code",
   "execution_count": 48,
   "metadata": {},
   "outputs": [
    {
     "data": {
      "text/plain": [
       "2492"
      ]
     },
     "execution_count": 48,
     "metadata": {},
     "output_type": "execute_result"
    }
   ],
   "source": [
    "len(movie_df)"
   ]
  },
  {
   "cell_type": "code",
   "execution_count": 38,
   "metadata": {},
   "outputs": [
    {
     "data": {
      "text/plain": [
       "list"
      ]
     },
     "execution_count": 38,
     "metadata": {},
     "output_type": "execute_result"
    }
   ],
   "source": [
    "type(end)"
   ]
  },
  {
   "cell_type": "code",
   "execution_count": 39,
   "metadata": {},
   "outputs": [],
   "source": [
    "cast_info_list.append(end)"
   ]
  },
  {
   "cell_type": "code",
   "execution_count": 40,
   "metadata": {},
   "outputs": [
    {
     "data": {
      "text/plain": [
       "1500"
      ]
     },
     "execution_count": 40,
     "metadata": {},
     "output_type": "execute_result"
    }
   ],
   "source": [
    "len(cast_info_list)"
   ]
  },
  {
   "cell_type": "code",
   "execution_count": 49,
   "metadata": {},
   "outputs": [],
   "source": [
    "cast_info = cast_info_list + end"
   ]
  },
  {
   "cell_type": "code",
   "execution_count": null,
   "metadata": {},
   "outputs": [],
   "source": [
    "with open('cast_info.pickle', '')"
   ]
  }
 ],
 "metadata": {
  "kernelspec": {
   "display_name": "Python 3",
   "language": "python",
   "name": "python3"
  },
  "language_info": {
   "codemirror_mode": {
    "name": "ipython",
    "version": 3
   },
   "file_extension": ".py",
   "mimetype": "text/x-python",
   "name": "python",
   "nbconvert_exporter": "python",
   "pygments_lexer": "ipython3",
   "version": "3.8.3"
  }
 },
 "nbformat": 4,
 "nbformat_minor": 4
}
